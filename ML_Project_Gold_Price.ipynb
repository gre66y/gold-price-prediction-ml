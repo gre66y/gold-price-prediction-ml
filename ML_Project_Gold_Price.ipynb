{
  "nbformat": 4,
  "nbformat_minor": 0,
  "metadata": {
    "colab": {
      "provenance": []
    },
    "kernelspec": {
      "name": "python3",
      "display_name": "Python 3"
    },
    "language_info": {
      "name": "python"
    }
  },
  "cells": [
    {
      "cell_type": "markdown",
      "source": [
        "Importing libraries"
      ],
      "metadata": {
        "id": "1NfSPbq1fvAT"
      }
    },
    {
      "cell_type": "code",
      "execution_count": null,
      "metadata": {
        "id": "zpHp8lVmdJP3"
      },
      "outputs": [],
      "source": [
        "import numpy as np\n",
        "import pandas as pd\n",
        "import matplotlib.pyplot as plt\n",
        "import seaborn as sns\n",
        "from sklearn.model_selection import train_test_split\n",
        "from sklearn.ensemble import RandomForestRegressor\n",
        "from sklearn.linear_model import LinearRegression\n",
        "from sklearn.tree import DecisionTreeRegressor\n",
        "from sklearn import metrics"
      ]
    },
    {
      "cell_type": "markdown",
      "source": [
        "Data Importing"
      ],
      "metadata": {
        "id": "l-qPTFDygn9s"
      }
    },
    {
      "cell_type": "code",
      "source": [
        "gold_data = pd.read_csv('/content/gld_price_data.csv')"
      ],
      "metadata": {
        "id": "s5zE6qnGglFB"
      },
      "execution_count": null,
      "outputs": []
    },
    {
      "cell_type": "code",
      "source": [
        "gold_data.head()"
      ],
      "metadata": {
        "colab": {
          "base_uri": "https://localhost:8080/",
          "height": 206
        },
        "id": "XZWnhK6vg4i9",
        "outputId": "699386b6-1520-48b9-8620-87583296473a"
      },
      "execution_count": null,
      "outputs": [
        {
          "output_type": "execute_result",
          "data": {
            "text/plain": [
              "        Date          SPX        GLD        USO     SLV   EUR/USD\n",
              "0 2008-01-02  1447.160034  84.860001  78.470001  15.180  1.471692\n",
              "1 2008-01-03  1447.160034  85.570000  78.370003  15.285  1.474491\n",
              "2 2008-01-04  1411.630005  85.129997  77.309998  15.167  1.475492\n",
              "3 2008-01-07  1416.180054  84.769997  75.500000  15.053  1.468299\n",
              "4 2008-01-08  1390.189941  86.779999  76.059998  15.590  1.557099"
            ],
            "text/html": [
              "\n",
              "  <div id=\"df-f1c0b0a2-66fc-4451-9fe8-173435497889\" class=\"colab-df-container\">\n",
              "    <div>\n",
              "<style scoped>\n",
              "    .dataframe tbody tr th:only-of-type {\n",
              "        vertical-align: middle;\n",
              "    }\n",
              "\n",
              "    .dataframe tbody tr th {\n",
              "        vertical-align: top;\n",
              "    }\n",
              "\n",
              "    .dataframe thead th {\n",
              "        text-align: right;\n",
              "    }\n",
              "</style>\n",
              "<table border=\"1\" class=\"dataframe\">\n",
              "  <thead>\n",
              "    <tr style=\"text-align: right;\">\n",
              "      <th></th>\n",
              "      <th>Date</th>\n",
              "      <th>SPX</th>\n",
              "      <th>GLD</th>\n",
              "      <th>USO</th>\n",
              "      <th>SLV</th>\n",
              "      <th>EUR/USD</th>\n",
              "    </tr>\n",
              "  </thead>\n",
              "  <tbody>\n",
              "    <tr>\n",
              "      <th>0</th>\n",
              "      <td>2008-01-02</td>\n",
              "      <td>1447.160034</td>\n",
              "      <td>84.860001</td>\n",
              "      <td>78.470001</td>\n",
              "      <td>15.180</td>\n",
              "      <td>1.471692</td>\n",
              "    </tr>\n",
              "    <tr>\n",
              "      <th>1</th>\n",
              "      <td>2008-01-03</td>\n",
              "      <td>1447.160034</td>\n",
              "      <td>85.570000</td>\n",
              "      <td>78.370003</td>\n",
              "      <td>15.285</td>\n",
              "      <td>1.474491</td>\n",
              "    </tr>\n",
              "    <tr>\n",
              "      <th>2</th>\n",
              "      <td>2008-01-04</td>\n",
              "      <td>1411.630005</td>\n",
              "      <td>85.129997</td>\n",
              "      <td>77.309998</td>\n",
              "      <td>15.167</td>\n",
              "      <td>1.475492</td>\n",
              "    </tr>\n",
              "    <tr>\n",
              "      <th>3</th>\n",
              "      <td>2008-01-07</td>\n",
              "      <td>1416.180054</td>\n",
              "      <td>84.769997</td>\n",
              "      <td>75.500000</td>\n",
              "      <td>15.053</td>\n",
              "      <td>1.468299</td>\n",
              "    </tr>\n",
              "    <tr>\n",
              "      <th>4</th>\n",
              "      <td>2008-01-08</td>\n",
              "      <td>1390.189941</td>\n",
              "      <td>86.779999</td>\n",
              "      <td>76.059998</td>\n",
              "      <td>15.590</td>\n",
              "      <td>1.557099</td>\n",
              "    </tr>\n",
              "  </tbody>\n",
              "</table>\n",
              "</div>\n",
              "    <div class=\"colab-df-buttons\">\n",
              "\n",
              "  <div class=\"colab-df-container\">\n",
              "    <button class=\"colab-df-convert\" onclick=\"convertToInteractive('df-f1c0b0a2-66fc-4451-9fe8-173435497889')\"\n",
              "            title=\"Convert this dataframe to an interactive table.\"\n",
              "            style=\"display:none;\">\n",
              "\n",
              "  <svg xmlns=\"http://www.w3.org/2000/svg\" height=\"24px\" viewBox=\"0 -960 960 960\">\n",
              "    <path d=\"M120-120v-720h720v720H120Zm60-500h600v-160H180v160Zm220 220h160v-160H400v160Zm0 220h160v-160H400v160ZM180-400h160v-160H180v160Zm440 0h160v-160H620v160ZM180-180h160v-160H180v160Zm440 0h160v-160H620v160Z\"/>\n",
              "  </svg>\n",
              "    </button>\n",
              "\n",
              "  <style>\n",
              "    .colab-df-container {\n",
              "      display:flex;\n",
              "      gap: 12px;\n",
              "    }\n",
              "\n",
              "    .colab-df-convert {\n",
              "      background-color: #E8F0FE;\n",
              "      border: none;\n",
              "      border-radius: 50%;\n",
              "      cursor: pointer;\n",
              "      display: none;\n",
              "      fill: #1967D2;\n",
              "      height: 32px;\n",
              "      padding: 0 0 0 0;\n",
              "      width: 32px;\n",
              "    }\n",
              "\n",
              "    .colab-df-convert:hover {\n",
              "      background-color: #E2EBFA;\n",
              "      box-shadow: 0px 1px 2px rgba(60, 64, 67, 0.3), 0px 1px 3px 1px rgba(60, 64, 67, 0.15);\n",
              "      fill: #174EA6;\n",
              "    }\n",
              "\n",
              "    .colab-df-buttons div {\n",
              "      margin-bottom: 4px;\n",
              "    }\n",
              "\n",
              "    [theme=dark] .colab-df-convert {\n",
              "      background-color: #3B4455;\n",
              "      fill: #D2E3FC;\n",
              "    }\n",
              "\n",
              "    [theme=dark] .colab-df-convert:hover {\n",
              "      background-color: #434B5C;\n",
              "      box-shadow: 0px 1px 3px 1px rgba(0, 0, 0, 0.15);\n",
              "      filter: drop-shadow(0px 1px 2px rgba(0, 0, 0, 0.3));\n",
              "      fill: #FFFFFF;\n",
              "    }\n",
              "  </style>\n",
              "\n",
              "    <script>\n",
              "      const buttonEl =\n",
              "        document.querySelector('#df-f1c0b0a2-66fc-4451-9fe8-173435497889 button.colab-df-convert');\n",
              "      buttonEl.style.display =\n",
              "        google.colab.kernel.accessAllowed ? 'block' : 'none';\n",
              "\n",
              "      async function convertToInteractive(key) {\n",
              "        const element = document.querySelector('#df-f1c0b0a2-66fc-4451-9fe8-173435497889');\n",
              "        const dataTable =\n",
              "          await google.colab.kernel.invokeFunction('convertToInteractive',\n",
              "                                                    [key], {});\n",
              "        if (!dataTable) return;\n",
              "\n",
              "        const docLinkHtml = 'Like what you see? Visit the ' +\n",
              "          '<a target=\"_blank\" href=https://colab.research.google.com/notebooks/data_table.ipynb>data table notebook</a>'\n",
              "          + ' to learn more about interactive tables.';\n",
              "        element.innerHTML = '';\n",
              "        dataTable['output_type'] = 'display_data';\n",
              "        await google.colab.output.renderOutput(dataTable, element);\n",
              "        const docLink = document.createElement('div');\n",
              "        docLink.innerHTML = docLinkHtml;\n",
              "        element.appendChild(docLink);\n",
              "      }\n",
              "    </script>\n",
              "  </div>\n",
              "\n",
              "\n",
              "<div id=\"df-6226dae5-64b5-47ff-afa1-f7d1196920a1\">\n",
              "  <button class=\"colab-df-quickchart\" onclick=\"quickchart('df-6226dae5-64b5-47ff-afa1-f7d1196920a1')\"\n",
              "            title=\"Suggest charts\"\n",
              "            style=\"display:none;\">\n",
              "\n",
              "<svg xmlns=\"http://www.w3.org/2000/svg\" height=\"24px\"viewBox=\"0 0 24 24\"\n",
              "     width=\"24px\">\n",
              "    <g>\n",
              "        <path d=\"M19 3H5c-1.1 0-2 .9-2 2v14c0 1.1.9 2 2 2h14c1.1 0 2-.9 2-2V5c0-1.1-.9-2-2-2zM9 17H7v-7h2v7zm4 0h-2V7h2v10zm4 0h-2v-4h2v4z\"/>\n",
              "    </g>\n",
              "</svg>\n",
              "  </button>\n",
              "\n",
              "<style>\n",
              "  .colab-df-quickchart {\n",
              "      --bg-color: #E8F0FE;\n",
              "      --fill-color: #1967D2;\n",
              "      --hover-bg-color: #E2EBFA;\n",
              "      --hover-fill-color: #174EA6;\n",
              "      --disabled-fill-color: #AAA;\n",
              "      --disabled-bg-color: #DDD;\n",
              "  }\n",
              "\n",
              "  [theme=dark] .colab-df-quickchart {\n",
              "      --bg-color: #3B4455;\n",
              "      --fill-color: #D2E3FC;\n",
              "      --hover-bg-color: #434B5C;\n",
              "      --hover-fill-color: #FFFFFF;\n",
              "      --disabled-bg-color: #3B4455;\n",
              "      --disabled-fill-color: #666;\n",
              "  }\n",
              "\n",
              "  .colab-df-quickchart {\n",
              "    background-color: var(--bg-color);\n",
              "    border: none;\n",
              "    border-radius: 50%;\n",
              "    cursor: pointer;\n",
              "    display: none;\n",
              "    fill: var(--fill-color);\n",
              "    height: 32px;\n",
              "    padding: 0;\n",
              "    width: 32px;\n",
              "  }\n",
              "\n",
              "  .colab-df-quickchart:hover {\n",
              "    background-color: var(--hover-bg-color);\n",
              "    box-shadow: 0 1px 2px rgba(60, 64, 67, 0.3), 0 1px 3px 1px rgba(60, 64, 67, 0.15);\n",
              "    fill: var(--button-hover-fill-color);\n",
              "  }\n",
              "\n",
              "  .colab-df-quickchart-complete:disabled,\n",
              "  .colab-df-quickchart-complete:disabled:hover {\n",
              "    background-color: var(--disabled-bg-color);\n",
              "    fill: var(--disabled-fill-color);\n",
              "    box-shadow: none;\n",
              "  }\n",
              "\n",
              "  .colab-df-spinner {\n",
              "    border: 2px solid var(--fill-color);\n",
              "    border-color: transparent;\n",
              "    border-bottom-color: var(--fill-color);\n",
              "    animation:\n",
              "      spin 1s steps(1) infinite;\n",
              "  }\n",
              "\n",
              "  @keyframes spin {\n",
              "    0% {\n",
              "      border-color: transparent;\n",
              "      border-bottom-color: var(--fill-color);\n",
              "      border-left-color: var(--fill-color);\n",
              "    }\n",
              "    20% {\n",
              "      border-color: transparent;\n",
              "      border-left-color: var(--fill-color);\n",
              "      border-top-color: var(--fill-color);\n",
              "    }\n",
              "    30% {\n",
              "      border-color: transparent;\n",
              "      border-left-color: var(--fill-color);\n",
              "      border-top-color: var(--fill-color);\n",
              "      border-right-color: var(--fill-color);\n",
              "    }\n",
              "    40% {\n",
              "      border-color: transparent;\n",
              "      border-right-color: var(--fill-color);\n",
              "      border-top-color: var(--fill-color);\n",
              "    }\n",
              "    60% {\n",
              "      border-color: transparent;\n",
              "      border-right-color: var(--fill-color);\n",
              "    }\n",
              "    80% {\n",
              "      border-color: transparent;\n",
              "      border-right-color: var(--fill-color);\n",
              "      border-bottom-color: var(--fill-color);\n",
              "    }\n",
              "    90% {\n",
              "      border-color: transparent;\n",
              "      border-bottom-color: var(--fill-color);\n",
              "    }\n",
              "  }\n",
              "</style>\n",
              "\n",
              "  <script>\n",
              "    async function quickchart(key) {\n",
              "      const quickchartButtonEl =\n",
              "        document.querySelector('#' + key + ' button');\n",
              "      quickchartButtonEl.disabled = true;  // To prevent multiple clicks.\n",
              "      quickchartButtonEl.classList.add('colab-df-spinner');\n",
              "      try {\n",
              "        const charts = await google.colab.kernel.invokeFunction(\n",
              "            'suggestCharts', [key], {});\n",
              "      } catch (error) {\n",
              "        console.error('Error during call to suggestCharts:', error);\n",
              "      }\n",
              "      quickchartButtonEl.classList.remove('colab-df-spinner');\n",
              "      quickchartButtonEl.classList.add('colab-df-quickchart-complete');\n",
              "    }\n",
              "    (() => {\n",
              "      let quickchartButtonEl =\n",
              "        document.querySelector('#df-6226dae5-64b5-47ff-afa1-f7d1196920a1 button');\n",
              "      quickchartButtonEl.style.display =\n",
              "        google.colab.kernel.accessAllowed ? 'block' : 'none';\n",
              "    })();\n",
              "  </script>\n",
              "</div>\n",
              "\n",
              "    </div>\n",
              "  </div>\n"
            ],
            "application/vnd.google.colaboratory.intrinsic+json": {
              "type": "dataframe",
              "variable_name": "gold_data",
              "summary": "{\n  \"name\": \"gold_data\",\n  \"rows\": 2290,\n  \"fields\": [\n    {\n      \"column\": \"Date\",\n      \"properties\": {\n        \"dtype\": \"date\",\n        \"min\": \"2008-01-02 00:00:00\",\n        \"max\": \"2018-05-16 00:00:00\",\n        \"num_unique_values\": 2290,\n        \"samples\": [\n          \"2017-11-24 00:00:00\",\n          \"2013-10-24 00:00:00\",\n          \"2013-10-21 00:00:00\"\n        ],\n        \"semantic_type\": \"\",\n        \"description\": \"\"\n      }\n    },\n    {\n      \"column\": \"SPX\",\n      \"properties\": {\n        \"dtype\": \"number\",\n        \"std\": 519.1115402032954,\n        \"min\": 676.530029,\n        \"max\": 2872.870117,\n        \"num_unique_values\": 2277,\n        \"samples\": [\n          1339.219971,\n          1137.140015,\n          1325.76001\n        ],\n        \"semantic_type\": \"\",\n        \"description\": \"\"\n      }\n    },\n    {\n      \"column\": \"GLD\",\n      \"properties\": {\n        \"dtype\": \"number\",\n        \"std\": 23.28334574711753,\n        \"min\": 70.0,\n        \"max\": 184.589996,\n        \"num_unique_values\": 1930,\n        \"samples\": [\n          118.279999,\n          120.099998,\n          120.32\n        ],\n        \"semantic_type\": \"\",\n        \"description\": \"\"\n      }\n    },\n    {\n      \"column\": \"USO\",\n      \"properties\": {\n        \"dtype\": \"number\",\n        \"std\": 19.523517029775018,\n        \"min\": 7.96,\n        \"max\": 117.480003,\n        \"num_unique_values\": 1514,\n        \"samples\": [\n          82.290001,\n          53.84,\n          13.22\n        ],\n        \"semantic_type\": \"\",\n        \"description\": \"\"\n      }\n    },\n    {\n      \"column\": \"SLV\",\n      \"properties\": {\n        \"dtype\": \"number\",\n        \"std\": 7.092566374075398,\n        \"min\": 8.85,\n        \"max\": 47.259998,\n        \"num_unique_values\": 1331,\n        \"samples\": [\n          22.889999,\n          14.92,\n          13.37\n        ],\n        \"semantic_type\": \"\",\n        \"description\": \"\"\n      }\n    },\n    {\n      \"column\": \"EUR/USD\",\n      \"properties\": {\n        \"dtype\": \"number\",\n        \"std\": 0.13154721612113973,\n        \"min\": 1.039047,\n        \"max\": 1.598798,\n        \"num_unique_values\": 2066,\n        \"samples\": [\n          1.094355,\n          1.185986,\n          1.248003\n        ],\n        \"semantic_type\": \"\",\n        \"description\": \"\"\n      }\n    }\n  ]\n}"
            }
          },
          "metadata": {},
          "execution_count": 88
        }
      ]
    },
    {
      "cell_type": "code",
      "source": [
        "gold_data.tail()"
      ],
      "metadata": {
        "colab": {
          "base_uri": "https://localhost:8080/",
          "height": 206
        },
        "id": "JH6TBvoJg_yH",
        "outputId": "3dde20ea-e5c8-4493-abf4-d8aa84788d30"
      },
      "execution_count": null,
      "outputs": [
        {
          "output_type": "execute_result",
          "data": {
            "text/plain": [
              "           Date          SPX         GLD      USO      SLV   EUR/USD\n",
              "2285 2018-05-08  2671.919922  124.589996  14.0600  15.5100  1.186789\n",
              "2286 2018-05-09  2697.790039  124.330002  14.3700  15.5300  1.184722\n",
              "2287 2018-05-10  2723.070068  125.180000  14.4100  15.7400  1.191753\n",
              "2288 2018-05-14  2730.129883  124.489998  14.3800  15.5600  1.193118\n",
              "2289 2018-05-16  2725.780029  122.543800  14.4058  15.4542  1.182033"
            ],
            "text/html": [
              "\n",
              "  <div id=\"df-1b94770d-3ada-4c69-b6ff-05babccdc205\" class=\"colab-df-container\">\n",
              "    <div>\n",
              "<style scoped>\n",
              "    .dataframe tbody tr th:only-of-type {\n",
              "        vertical-align: middle;\n",
              "    }\n",
              "\n",
              "    .dataframe tbody tr th {\n",
              "        vertical-align: top;\n",
              "    }\n",
              "\n",
              "    .dataframe thead th {\n",
              "        text-align: right;\n",
              "    }\n",
              "</style>\n",
              "<table border=\"1\" class=\"dataframe\">\n",
              "  <thead>\n",
              "    <tr style=\"text-align: right;\">\n",
              "      <th></th>\n",
              "      <th>Date</th>\n",
              "      <th>SPX</th>\n",
              "      <th>GLD</th>\n",
              "      <th>USO</th>\n",
              "      <th>SLV</th>\n",
              "      <th>EUR/USD</th>\n",
              "    </tr>\n",
              "  </thead>\n",
              "  <tbody>\n",
              "    <tr>\n",
              "      <th>2285</th>\n",
              "      <td>2018-05-08</td>\n",
              "      <td>2671.919922</td>\n",
              "      <td>124.589996</td>\n",
              "      <td>14.0600</td>\n",
              "      <td>15.5100</td>\n",
              "      <td>1.186789</td>\n",
              "    </tr>\n",
              "    <tr>\n",
              "      <th>2286</th>\n",
              "      <td>2018-05-09</td>\n",
              "      <td>2697.790039</td>\n",
              "      <td>124.330002</td>\n",
              "      <td>14.3700</td>\n",
              "      <td>15.5300</td>\n",
              "      <td>1.184722</td>\n",
              "    </tr>\n",
              "    <tr>\n",
              "      <th>2287</th>\n",
              "      <td>2018-05-10</td>\n",
              "      <td>2723.070068</td>\n",
              "      <td>125.180000</td>\n",
              "      <td>14.4100</td>\n",
              "      <td>15.7400</td>\n",
              "      <td>1.191753</td>\n",
              "    </tr>\n",
              "    <tr>\n",
              "      <th>2288</th>\n",
              "      <td>2018-05-14</td>\n",
              "      <td>2730.129883</td>\n",
              "      <td>124.489998</td>\n",
              "      <td>14.3800</td>\n",
              "      <td>15.5600</td>\n",
              "      <td>1.193118</td>\n",
              "    </tr>\n",
              "    <tr>\n",
              "      <th>2289</th>\n",
              "      <td>2018-05-16</td>\n",
              "      <td>2725.780029</td>\n",
              "      <td>122.543800</td>\n",
              "      <td>14.4058</td>\n",
              "      <td>15.4542</td>\n",
              "      <td>1.182033</td>\n",
              "    </tr>\n",
              "  </tbody>\n",
              "</table>\n",
              "</div>\n",
              "    <div class=\"colab-df-buttons\">\n",
              "\n",
              "  <div class=\"colab-df-container\">\n",
              "    <button class=\"colab-df-convert\" onclick=\"convertToInteractive('df-1b94770d-3ada-4c69-b6ff-05babccdc205')\"\n",
              "            title=\"Convert this dataframe to an interactive table.\"\n",
              "            style=\"display:none;\">\n",
              "\n",
              "  <svg xmlns=\"http://www.w3.org/2000/svg\" height=\"24px\" viewBox=\"0 -960 960 960\">\n",
              "    <path d=\"M120-120v-720h720v720H120Zm60-500h600v-160H180v160Zm220 220h160v-160H400v160Zm0 220h160v-160H400v160ZM180-400h160v-160H180v160Zm440 0h160v-160H620v160ZM180-180h160v-160H180v160Zm440 0h160v-160H620v160Z\"/>\n",
              "  </svg>\n",
              "    </button>\n",
              "\n",
              "  <style>\n",
              "    .colab-df-container {\n",
              "      display:flex;\n",
              "      gap: 12px;\n",
              "    }\n",
              "\n",
              "    .colab-df-convert {\n",
              "      background-color: #E8F0FE;\n",
              "      border: none;\n",
              "      border-radius: 50%;\n",
              "      cursor: pointer;\n",
              "      display: none;\n",
              "      fill: #1967D2;\n",
              "      height: 32px;\n",
              "      padding: 0 0 0 0;\n",
              "      width: 32px;\n",
              "    }\n",
              "\n",
              "    .colab-df-convert:hover {\n",
              "      background-color: #E2EBFA;\n",
              "      box-shadow: 0px 1px 2px rgba(60, 64, 67, 0.3), 0px 1px 3px 1px rgba(60, 64, 67, 0.15);\n",
              "      fill: #174EA6;\n",
              "    }\n",
              "\n",
              "    .colab-df-buttons div {\n",
              "      margin-bottom: 4px;\n",
              "    }\n",
              "\n",
              "    [theme=dark] .colab-df-convert {\n",
              "      background-color: #3B4455;\n",
              "      fill: #D2E3FC;\n",
              "    }\n",
              "\n",
              "    [theme=dark] .colab-df-convert:hover {\n",
              "      background-color: #434B5C;\n",
              "      box-shadow: 0px 1px 3px 1px rgba(0, 0, 0, 0.15);\n",
              "      filter: drop-shadow(0px 1px 2px rgba(0, 0, 0, 0.3));\n",
              "      fill: #FFFFFF;\n",
              "    }\n",
              "  </style>\n",
              "\n",
              "    <script>\n",
              "      const buttonEl =\n",
              "        document.querySelector('#df-1b94770d-3ada-4c69-b6ff-05babccdc205 button.colab-df-convert');\n",
              "      buttonEl.style.display =\n",
              "        google.colab.kernel.accessAllowed ? 'block' : 'none';\n",
              "\n",
              "      async function convertToInteractive(key) {\n",
              "        const element = document.querySelector('#df-1b94770d-3ada-4c69-b6ff-05babccdc205');\n",
              "        const dataTable =\n",
              "          await google.colab.kernel.invokeFunction('convertToInteractive',\n",
              "                                                    [key], {});\n",
              "        if (!dataTable) return;\n",
              "\n",
              "        const docLinkHtml = 'Like what you see? Visit the ' +\n",
              "          '<a target=\"_blank\" href=https://colab.research.google.com/notebooks/data_table.ipynb>data table notebook</a>'\n",
              "          + ' to learn more about interactive tables.';\n",
              "        element.innerHTML = '';\n",
              "        dataTable['output_type'] = 'display_data';\n",
              "        await google.colab.output.renderOutput(dataTable, element);\n",
              "        const docLink = document.createElement('div');\n",
              "        docLink.innerHTML = docLinkHtml;\n",
              "        element.appendChild(docLink);\n",
              "      }\n",
              "    </script>\n",
              "  </div>\n",
              "\n",
              "\n",
              "<div id=\"df-7af3ca37-cc78-4dab-b653-370b9ae9ffa1\">\n",
              "  <button class=\"colab-df-quickchart\" onclick=\"quickchart('df-7af3ca37-cc78-4dab-b653-370b9ae9ffa1')\"\n",
              "            title=\"Suggest charts\"\n",
              "            style=\"display:none;\">\n",
              "\n",
              "<svg xmlns=\"http://www.w3.org/2000/svg\" height=\"24px\"viewBox=\"0 0 24 24\"\n",
              "     width=\"24px\">\n",
              "    <g>\n",
              "        <path d=\"M19 3H5c-1.1 0-2 .9-2 2v14c0 1.1.9 2 2 2h14c1.1 0 2-.9 2-2V5c0-1.1-.9-2-2-2zM9 17H7v-7h2v7zm4 0h-2V7h2v10zm4 0h-2v-4h2v4z\"/>\n",
              "    </g>\n",
              "</svg>\n",
              "  </button>\n",
              "\n",
              "<style>\n",
              "  .colab-df-quickchart {\n",
              "      --bg-color: #E8F0FE;\n",
              "      --fill-color: #1967D2;\n",
              "      --hover-bg-color: #E2EBFA;\n",
              "      --hover-fill-color: #174EA6;\n",
              "      --disabled-fill-color: #AAA;\n",
              "      --disabled-bg-color: #DDD;\n",
              "  }\n",
              "\n",
              "  [theme=dark] .colab-df-quickchart {\n",
              "      --bg-color: #3B4455;\n",
              "      --fill-color: #D2E3FC;\n",
              "      --hover-bg-color: #434B5C;\n",
              "      --hover-fill-color: #FFFFFF;\n",
              "      --disabled-bg-color: #3B4455;\n",
              "      --disabled-fill-color: #666;\n",
              "  }\n",
              "\n",
              "  .colab-df-quickchart {\n",
              "    background-color: var(--bg-color);\n",
              "    border: none;\n",
              "    border-radius: 50%;\n",
              "    cursor: pointer;\n",
              "    display: none;\n",
              "    fill: var(--fill-color);\n",
              "    height: 32px;\n",
              "    padding: 0;\n",
              "    width: 32px;\n",
              "  }\n",
              "\n",
              "  .colab-df-quickchart:hover {\n",
              "    background-color: var(--hover-bg-color);\n",
              "    box-shadow: 0 1px 2px rgba(60, 64, 67, 0.3), 0 1px 3px 1px rgba(60, 64, 67, 0.15);\n",
              "    fill: var(--button-hover-fill-color);\n",
              "  }\n",
              "\n",
              "  .colab-df-quickchart-complete:disabled,\n",
              "  .colab-df-quickchart-complete:disabled:hover {\n",
              "    background-color: var(--disabled-bg-color);\n",
              "    fill: var(--disabled-fill-color);\n",
              "    box-shadow: none;\n",
              "  }\n",
              "\n",
              "  .colab-df-spinner {\n",
              "    border: 2px solid var(--fill-color);\n",
              "    border-color: transparent;\n",
              "    border-bottom-color: var(--fill-color);\n",
              "    animation:\n",
              "      spin 1s steps(1) infinite;\n",
              "  }\n",
              "\n",
              "  @keyframes spin {\n",
              "    0% {\n",
              "      border-color: transparent;\n",
              "      border-bottom-color: var(--fill-color);\n",
              "      border-left-color: var(--fill-color);\n",
              "    }\n",
              "    20% {\n",
              "      border-color: transparent;\n",
              "      border-left-color: var(--fill-color);\n",
              "      border-top-color: var(--fill-color);\n",
              "    }\n",
              "    30% {\n",
              "      border-color: transparent;\n",
              "      border-left-color: var(--fill-color);\n",
              "      border-top-color: var(--fill-color);\n",
              "      border-right-color: var(--fill-color);\n",
              "    }\n",
              "    40% {\n",
              "      border-color: transparent;\n",
              "      border-right-color: var(--fill-color);\n",
              "      border-top-color: var(--fill-color);\n",
              "    }\n",
              "    60% {\n",
              "      border-color: transparent;\n",
              "      border-right-color: var(--fill-color);\n",
              "    }\n",
              "    80% {\n",
              "      border-color: transparent;\n",
              "      border-right-color: var(--fill-color);\n",
              "      border-bottom-color: var(--fill-color);\n",
              "    }\n",
              "    90% {\n",
              "      border-color: transparent;\n",
              "      border-bottom-color: var(--fill-color);\n",
              "    }\n",
              "  }\n",
              "</style>\n",
              "\n",
              "  <script>\n",
              "    async function quickchart(key) {\n",
              "      const quickchartButtonEl =\n",
              "        document.querySelector('#' + key + ' button');\n",
              "      quickchartButtonEl.disabled = true;  // To prevent multiple clicks.\n",
              "      quickchartButtonEl.classList.add('colab-df-spinner');\n",
              "      try {\n",
              "        const charts = await google.colab.kernel.invokeFunction(\n",
              "            'suggestCharts', [key], {});\n",
              "      } catch (error) {\n",
              "        console.error('Error during call to suggestCharts:', error);\n",
              "      }\n",
              "      quickchartButtonEl.classList.remove('colab-df-spinner');\n",
              "      quickchartButtonEl.classList.add('colab-df-quickchart-complete');\n",
              "    }\n",
              "    (() => {\n",
              "      let quickchartButtonEl =\n",
              "        document.querySelector('#df-7af3ca37-cc78-4dab-b653-370b9ae9ffa1 button');\n",
              "      quickchartButtonEl.style.display =\n",
              "        google.colab.kernel.accessAllowed ? 'block' : 'none';\n",
              "    })();\n",
              "  </script>\n",
              "</div>\n",
              "\n",
              "    </div>\n",
              "  </div>\n"
            ],
            "application/vnd.google.colaboratory.intrinsic+json": {
              "type": "dataframe",
              "summary": "{\n  \"name\": \"gold_data\",\n  \"rows\": 5,\n  \"fields\": [\n    {\n      \"column\": \"Date\",\n      \"properties\": {\n        \"dtype\": \"date\",\n        \"min\": \"2018-05-08 00:00:00\",\n        \"max\": \"2018-05-16 00:00:00\",\n        \"num_unique_values\": 5,\n        \"samples\": [\n          \"2018-05-09 00:00:00\",\n          \"2018-05-16 00:00:00\",\n          \"2018-05-10 00:00:00\"\n        ],\n        \"semantic_type\": \"\",\n        \"description\": \"\"\n      }\n    },\n    {\n      \"column\": \"SPX\",\n      \"properties\": {\n        \"dtype\": \"number\",\n        \"std\": 24.6164600397278,\n        \"min\": 2671.919922,\n        \"max\": 2730.129883,\n        \"num_unique_values\": 5,\n        \"samples\": [\n          2697.790039,\n          2725.780029,\n          2723.070068\n        ],\n        \"semantic_type\": \"\",\n        \"description\": \"\"\n      }\n    },\n    {\n      \"column\": \"GLD\",\n      \"properties\": {\n        \"dtype\": \"number\",\n        \"std\": 0.9940968773339944,\n        \"min\": 122.5438,\n        \"max\": 125.18,\n        \"num_unique_values\": 5,\n        \"samples\": [\n          124.330002,\n          122.5438,\n          125.18\n        ],\n        \"semantic_type\": \"\",\n        \"description\": \"\"\n      }\n    },\n    {\n      \"column\": \"USO\",\n      \"properties\": {\n        \"dtype\": \"number\",\n        \"std\": 0.14918823009875784,\n        \"min\": 14.06,\n        \"max\": 14.41,\n        \"num_unique_values\": 5,\n        \"samples\": [\n          14.37,\n          14.4058,\n          14.41\n        ],\n        \"semantic_type\": \"\",\n        \"description\": \"\"\n      }\n    },\n    {\n      \"column\": \"SLV\",\n      \"properties\": {\n        \"dtype\": \"number\",\n        \"std\": 0.10838232328198184,\n        \"min\": 15.4542,\n        \"max\": 15.74,\n        \"num_unique_values\": 5,\n        \"samples\": [\n          15.53,\n          15.4542,\n          15.74\n        ],\n        \"semantic_type\": \"\",\n        \"description\": \"\"\n      }\n    },\n    {\n      \"column\": \"EUR/USD\",\n      \"properties\": {\n        \"dtype\": \"number\",\n        \"std\": 0.004679566806874333,\n        \"min\": 1.182033,\n        \"max\": 1.193118,\n        \"num_unique_values\": 5,\n        \"samples\": [\n          1.184722,\n          1.182033,\n          1.191753\n        ],\n        \"semantic_type\": \"\",\n        \"description\": \"\"\n      }\n    }\n  ]\n}"
            }
          },
          "metadata": {},
          "execution_count": 89
        }
      ]
    },
    {
      "cell_type": "code",
      "source": [
        "gold_data.shape"
      ],
      "metadata": {
        "colab": {
          "base_uri": "https://localhost:8080/"
        },
        "id": "LYUiJ8amhx3d",
        "outputId": "4671b7d8-9560-4656-d737-bb1499d07f89"
      },
      "execution_count": null,
      "outputs": [
        {
          "output_type": "execute_result",
          "data": {
            "text/plain": [
              "(2290, 6)"
            ]
          },
          "metadata": {},
          "execution_count": 41
        }
      ]
    },
    {
      "cell_type": "code",
      "source": [
        "gold_data.info()"
      ],
      "metadata": {
        "colab": {
          "base_uri": "https://localhost:8080/"
        },
        "id": "ikwyVTPLh41H",
        "outputId": "89aeb2e2-7dd5-4b7a-d43c-e2f894e2a655"
      },
      "execution_count": null,
      "outputs": [
        {
          "output_type": "stream",
          "name": "stdout",
          "text": [
            "<class 'pandas.core.frame.DataFrame'>\n",
            "RangeIndex: 2290 entries, 0 to 2289\n",
            "Data columns (total 6 columns):\n",
            " #   Column   Non-Null Count  Dtype         \n",
            "---  ------   --------------  -----         \n",
            " 0   Date     2290 non-null   datetime64[ns]\n",
            " 1   SPX      2290 non-null   float64       \n",
            " 2   GLD      2290 non-null   float64       \n",
            " 3   USO      2290 non-null   float64       \n",
            " 4   SLV      2290 non-null   float64       \n",
            " 5   EUR/USD  2290 non-null   float64       \n",
            "dtypes: datetime64[ns](1), float64(5)\n",
            "memory usage: 107.5 KB\n"
          ]
        }
      ]
    },
    {
      "cell_type": "code",
      "source": [
        "gold_data.isnull().sum() #missing values"
      ],
      "metadata": {
        "colab": {
          "base_uri": "https://localhost:8080/"
        },
        "id": "alUie5fbh_5x",
        "outputId": "1acd19a8-3a9d-4eef-c72d-0b896fad3d4b"
      },
      "execution_count": null,
      "outputs": [
        {
          "output_type": "execute_result",
          "data": {
            "text/plain": [
              "Date       0\n",
              "SPX        0\n",
              "GLD        0\n",
              "USO        0\n",
              "SLV        0\n",
              "EUR/USD    0\n",
              "dtype: int64"
            ]
          },
          "metadata": {},
          "execution_count": 91
        }
      ]
    },
    {
      "cell_type": "markdown",
      "source": [
        "Statiscal info of data"
      ],
      "metadata": {
        "id": "3Y6ZZR2DiIzx"
      }
    },
    {
      "cell_type": "code",
      "source": [
        "gold_data.describe()"
      ],
      "metadata": {
        "colab": {
          "base_uri": "https://localhost:8080/",
          "height": 300
        },
        "id": "r-Z8SfXdiGJ4",
        "outputId": "abf97126-5697-4708-8dfd-e82faed4a31a"
      },
      "execution_count": null,
      "outputs": [
        {
          "output_type": "execute_result",
          "data": {
            "text/plain": [
              "                                Date          SPX          GLD          USO  \\\n",
              "count                           2290  2290.000000  2290.000000  2290.000000   \n",
              "mean   2013-03-17 08:23:41.135371008  1654.315776   122.732875    31.842221   \n",
              "min              2008-01-02 00:00:00   676.530029    70.000000     7.960000   \n",
              "25%              2010-08-20 00:00:00  1239.874969   109.725000    14.380000   \n",
              "50%              2013-03-13 12:00:00  1551.434998   120.580002    33.869999   \n",
              "75%              2015-10-25 00:00:00  2073.010070   132.840004    37.827501   \n",
              "max              2018-05-16 00:00:00  2872.870117   184.589996   117.480003   \n",
              "std                              NaN   519.111540    23.283346    19.523517   \n",
              "\n",
              "               SLV      EUR/USD  \n",
              "count  2290.000000  2290.000000  \n",
              "mean     20.084997     1.283653  \n",
              "min       8.850000     1.039047  \n",
              "25%      15.570000     1.171313  \n",
              "50%      17.268500     1.303297  \n",
              "75%      22.882500     1.369971  \n",
              "max      47.259998     1.598798  \n",
              "std       7.092566     0.131547  "
            ],
            "text/html": [
              "\n",
              "  <div id=\"df-1843cbf6-231b-4fd3-ba43-446b126d2c61\" class=\"colab-df-container\">\n",
              "    <div>\n",
              "<style scoped>\n",
              "    .dataframe tbody tr th:only-of-type {\n",
              "        vertical-align: middle;\n",
              "    }\n",
              "\n",
              "    .dataframe tbody tr th {\n",
              "        vertical-align: top;\n",
              "    }\n",
              "\n",
              "    .dataframe thead th {\n",
              "        text-align: right;\n",
              "    }\n",
              "</style>\n",
              "<table border=\"1\" class=\"dataframe\">\n",
              "  <thead>\n",
              "    <tr style=\"text-align: right;\">\n",
              "      <th></th>\n",
              "      <th>Date</th>\n",
              "      <th>SPX</th>\n",
              "      <th>GLD</th>\n",
              "      <th>USO</th>\n",
              "      <th>SLV</th>\n",
              "      <th>EUR/USD</th>\n",
              "    </tr>\n",
              "  </thead>\n",
              "  <tbody>\n",
              "    <tr>\n",
              "      <th>count</th>\n",
              "      <td>2290</td>\n",
              "      <td>2290.000000</td>\n",
              "      <td>2290.000000</td>\n",
              "      <td>2290.000000</td>\n",
              "      <td>2290.000000</td>\n",
              "      <td>2290.000000</td>\n",
              "    </tr>\n",
              "    <tr>\n",
              "      <th>mean</th>\n",
              "      <td>2013-03-17 08:23:41.135371008</td>\n",
              "      <td>1654.315776</td>\n",
              "      <td>122.732875</td>\n",
              "      <td>31.842221</td>\n",
              "      <td>20.084997</td>\n",
              "      <td>1.283653</td>\n",
              "    </tr>\n",
              "    <tr>\n",
              "      <th>min</th>\n",
              "      <td>2008-01-02 00:00:00</td>\n",
              "      <td>676.530029</td>\n",
              "      <td>70.000000</td>\n",
              "      <td>7.960000</td>\n",
              "      <td>8.850000</td>\n",
              "      <td>1.039047</td>\n",
              "    </tr>\n",
              "    <tr>\n",
              "      <th>25%</th>\n",
              "      <td>2010-08-20 00:00:00</td>\n",
              "      <td>1239.874969</td>\n",
              "      <td>109.725000</td>\n",
              "      <td>14.380000</td>\n",
              "      <td>15.570000</td>\n",
              "      <td>1.171313</td>\n",
              "    </tr>\n",
              "    <tr>\n",
              "      <th>50%</th>\n",
              "      <td>2013-03-13 12:00:00</td>\n",
              "      <td>1551.434998</td>\n",
              "      <td>120.580002</td>\n",
              "      <td>33.869999</td>\n",
              "      <td>17.268500</td>\n",
              "      <td>1.303297</td>\n",
              "    </tr>\n",
              "    <tr>\n",
              "      <th>75%</th>\n",
              "      <td>2015-10-25 00:00:00</td>\n",
              "      <td>2073.010070</td>\n",
              "      <td>132.840004</td>\n",
              "      <td>37.827501</td>\n",
              "      <td>22.882500</td>\n",
              "      <td>1.369971</td>\n",
              "    </tr>\n",
              "    <tr>\n",
              "      <th>max</th>\n",
              "      <td>2018-05-16 00:00:00</td>\n",
              "      <td>2872.870117</td>\n",
              "      <td>184.589996</td>\n",
              "      <td>117.480003</td>\n",
              "      <td>47.259998</td>\n",
              "      <td>1.598798</td>\n",
              "    </tr>\n",
              "    <tr>\n",
              "      <th>std</th>\n",
              "      <td>NaN</td>\n",
              "      <td>519.111540</td>\n",
              "      <td>23.283346</td>\n",
              "      <td>19.523517</td>\n",
              "      <td>7.092566</td>\n",
              "      <td>0.131547</td>\n",
              "    </tr>\n",
              "  </tbody>\n",
              "</table>\n",
              "</div>\n",
              "    <div class=\"colab-df-buttons\">\n",
              "\n",
              "  <div class=\"colab-df-container\">\n",
              "    <button class=\"colab-df-convert\" onclick=\"convertToInteractive('df-1843cbf6-231b-4fd3-ba43-446b126d2c61')\"\n",
              "            title=\"Convert this dataframe to an interactive table.\"\n",
              "            style=\"display:none;\">\n",
              "\n",
              "  <svg xmlns=\"http://www.w3.org/2000/svg\" height=\"24px\" viewBox=\"0 -960 960 960\">\n",
              "    <path d=\"M120-120v-720h720v720H120Zm60-500h600v-160H180v160Zm220 220h160v-160H400v160Zm0 220h160v-160H400v160ZM180-400h160v-160H180v160Zm440 0h160v-160H620v160ZM180-180h160v-160H180v160Zm440 0h160v-160H620v160Z\"/>\n",
              "  </svg>\n",
              "    </button>\n",
              "\n",
              "  <style>\n",
              "    .colab-df-container {\n",
              "      display:flex;\n",
              "      gap: 12px;\n",
              "    }\n",
              "\n",
              "    .colab-df-convert {\n",
              "      background-color: #E8F0FE;\n",
              "      border: none;\n",
              "      border-radius: 50%;\n",
              "      cursor: pointer;\n",
              "      display: none;\n",
              "      fill: #1967D2;\n",
              "      height: 32px;\n",
              "      padding: 0 0 0 0;\n",
              "      width: 32px;\n",
              "    }\n",
              "\n",
              "    .colab-df-convert:hover {\n",
              "      background-color: #E2EBFA;\n",
              "      box-shadow: 0px 1px 2px rgba(60, 64, 67, 0.3), 0px 1px 3px 1px rgba(60, 64, 67, 0.15);\n",
              "      fill: #174EA6;\n",
              "    }\n",
              "\n",
              "    .colab-df-buttons div {\n",
              "      margin-bottom: 4px;\n",
              "    }\n",
              "\n",
              "    [theme=dark] .colab-df-convert {\n",
              "      background-color: #3B4455;\n",
              "      fill: #D2E3FC;\n",
              "    }\n",
              "\n",
              "    [theme=dark] .colab-df-convert:hover {\n",
              "      background-color: #434B5C;\n",
              "      box-shadow: 0px 1px 3px 1px rgba(0, 0, 0, 0.15);\n",
              "      filter: drop-shadow(0px 1px 2px rgba(0, 0, 0, 0.3));\n",
              "      fill: #FFFFFF;\n",
              "    }\n",
              "  </style>\n",
              "\n",
              "    <script>\n",
              "      const buttonEl =\n",
              "        document.querySelector('#df-1843cbf6-231b-4fd3-ba43-446b126d2c61 button.colab-df-convert');\n",
              "      buttonEl.style.display =\n",
              "        google.colab.kernel.accessAllowed ? 'block' : 'none';\n",
              "\n",
              "      async function convertToInteractive(key) {\n",
              "        const element = document.querySelector('#df-1843cbf6-231b-4fd3-ba43-446b126d2c61');\n",
              "        const dataTable =\n",
              "          await google.colab.kernel.invokeFunction('convertToInteractive',\n",
              "                                                    [key], {});\n",
              "        if (!dataTable) return;\n",
              "\n",
              "        const docLinkHtml = 'Like what you see? Visit the ' +\n",
              "          '<a target=\"_blank\" href=https://colab.research.google.com/notebooks/data_table.ipynb>data table notebook</a>'\n",
              "          + ' to learn more about interactive tables.';\n",
              "        element.innerHTML = '';\n",
              "        dataTable['output_type'] = 'display_data';\n",
              "        await google.colab.output.renderOutput(dataTable, element);\n",
              "        const docLink = document.createElement('div');\n",
              "        docLink.innerHTML = docLinkHtml;\n",
              "        element.appendChild(docLink);\n",
              "      }\n",
              "    </script>\n",
              "  </div>\n",
              "\n",
              "\n",
              "<div id=\"df-937caa49-f6c6-41e0-b5fc-3ac5f4184be6\">\n",
              "  <button class=\"colab-df-quickchart\" onclick=\"quickchart('df-937caa49-f6c6-41e0-b5fc-3ac5f4184be6')\"\n",
              "            title=\"Suggest charts\"\n",
              "            style=\"display:none;\">\n",
              "\n",
              "<svg xmlns=\"http://www.w3.org/2000/svg\" height=\"24px\"viewBox=\"0 0 24 24\"\n",
              "     width=\"24px\">\n",
              "    <g>\n",
              "        <path d=\"M19 3H5c-1.1 0-2 .9-2 2v14c0 1.1.9 2 2 2h14c1.1 0 2-.9 2-2V5c0-1.1-.9-2-2-2zM9 17H7v-7h2v7zm4 0h-2V7h2v10zm4 0h-2v-4h2v4z\"/>\n",
              "    </g>\n",
              "</svg>\n",
              "  </button>\n",
              "\n",
              "<style>\n",
              "  .colab-df-quickchart {\n",
              "      --bg-color: #E8F0FE;\n",
              "      --fill-color: #1967D2;\n",
              "      --hover-bg-color: #E2EBFA;\n",
              "      --hover-fill-color: #174EA6;\n",
              "      --disabled-fill-color: #AAA;\n",
              "      --disabled-bg-color: #DDD;\n",
              "  }\n",
              "\n",
              "  [theme=dark] .colab-df-quickchart {\n",
              "      --bg-color: #3B4455;\n",
              "      --fill-color: #D2E3FC;\n",
              "      --hover-bg-color: #434B5C;\n",
              "      --hover-fill-color: #FFFFFF;\n",
              "      --disabled-bg-color: #3B4455;\n",
              "      --disabled-fill-color: #666;\n",
              "  }\n",
              "\n",
              "  .colab-df-quickchart {\n",
              "    background-color: var(--bg-color);\n",
              "    border: none;\n",
              "    border-radius: 50%;\n",
              "    cursor: pointer;\n",
              "    display: none;\n",
              "    fill: var(--fill-color);\n",
              "    height: 32px;\n",
              "    padding: 0;\n",
              "    width: 32px;\n",
              "  }\n",
              "\n",
              "  .colab-df-quickchart:hover {\n",
              "    background-color: var(--hover-bg-color);\n",
              "    box-shadow: 0 1px 2px rgba(60, 64, 67, 0.3), 0 1px 3px 1px rgba(60, 64, 67, 0.15);\n",
              "    fill: var(--button-hover-fill-color);\n",
              "  }\n",
              "\n",
              "  .colab-df-quickchart-complete:disabled,\n",
              "  .colab-df-quickchart-complete:disabled:hover {\n",
              "    background-color: var(--disabled-bg-color);\n",
              "    fill: var(--disabled-fill-color);\n",
              "    box-shadow: none;\n",
              "  }\n",
              "\n",
              "  .colab-df-spinner {\n",
              "    border: 2px solid var(--fill-color);\n",
              "    border-color: transparent;\n",
              "    border-bottom-color: var(--fill-color);\n",
              "    animation:\n",
              "      spin 1s steps(1) infinite;\n",
              "  }\n",
              "\n",
              "  @keyframes spin {\n",
              "    0% {\n",
              "      border-color: transparent;\n",
              "      border-bottom-color: var(--fill-color);\n",
              "      border-left-color: var(--fill-color);\n",
              "    }\n",
              "    20% {\n",
              "      border-color: transparent;\n",
              "      border-left-color: var(--fill-color);\n",
              "      border-top-color: var(--fill-color);\n",
              "    }\n",
              "    30% {\n",
              "      border-color: transparent;\n",
              "      border-left-color: var(--fill-color);\n",
              "      border-top-color: var(--fill-color);\n",
              "      border-right-color: var(--fill-color);\n",
              "    }\n",
              "    40% {\n",
              "      border-color: transparent;\n",
              "      border-right-color: var(--fill-color);\n",
              "      border-top-color: var(--fill-color);\n",
              "    }\n",
              "    60% {\n",
              "      border-color: transparent;\n",
              "      border-right-color: var(--fill-color);\n",
              "    }\n",
              "    80% {\n",
              "      border-color: transparent;\n",
              "      border-right-color: var(--fill-color);\n",
              "      border-bottom-color: var(--fill-color);\n",
              "    }\n",
              "    90% {\n",
              "      border-color: transparent;\n",
              "      border-bottom-color: var(--fill-color);\n",
              "    }\n",
              "  }\n",
              "</style>\n",
              "\n",
              "  <script>\n",
              "    async function quickchart(key) {\n",
              "      const quickchartButtonEl =\n",
              "        document.querySelector('#' + key + ' button');\n",
              "      quickchartButtonEl.disabled = true;  // To prevent multiple clicks.\n",
              "      quickchartButtonEl.classList.add('colab-df-spinner');\n",
              "      try {\n",
              "        const charts = await google.colab.kernel.invokeFunction(\n",
              "            'suggestCharts', [key], {});\n",
              "      } catch (error) {\n",
              "        console.error('Error during call to suggestCharts:', error);\n",
              "      }\n",
              "      quickchartButtonEl.classList.remove('colab-df-spinner');\n",
              "      quickchartButtonEl.classList.add('colab-df-quickchart-complete');\n",
              "    }\n",
              "    (() => {\n",
              "      let quickchartButtonEl =\n",
              "        document.querySelector('#df-937caa49-f6c6-41e0-b5fc-3ac5f4184be6 button');\n",
              "      quickchartButtonEl.style.display =\n",
              "        google.colab.kernel.accessAllowed ? 'block' : 'none';\n",
              "    })();\n",
              "  </script>\n",
              "</div>\n",
              "\n",
              "    </div>\n",
              "  </div>\n"
            ],
            "application/vnd.google.colaboratory.intrinsic+json": {
              "type": "dataframe",
              "summary": "{\n  \"name\": \"gold_data\",\n  \"rows\": 8,\n  \"fields\": [\n    {\n      \"column\": \"Date\",\n      \"properties\": {\n        \"dtype\": \"date\",\n        \"min\": \"1970-01-01 00:00:00.000002290\",\n        \"max\": \"2018-05-16 00:00:00\",\n        \"num_unique_values\": 7,\n        \"samples\": [\n          \"2290\",\n          \"2013-03-17 08:23:41.135371008\",\n          \"2015-10-25 00:00:00\"\n        ],\n        \"semantic_type\": \"\",\n        \"description\": \"\"\n      }\n    },\n    {\n      \"column\": \"SPX\",\n      \"properties\": {\n        \"dtype\": \"number\",\n        \"std\": 799.5899257140711,\n        \"min\": 519.1115402032954,\n        \"max\": 2872.870117,\n        \"num_unique_values\": 8,\n        \"samples\": [\n          1654.3157764318778,\n          2073.0100705,\n          2290.0\n        ],\n        \"semantic_type\": \"\",\n        \"description\": \"\"\n      }\n    },\n    {\n      \"column\": \"GLD\",\n      \"properties\": {\n        \"dtype\": \"number\",\n        \"std\": 772.4941009585959,\n        \"min\": 23.28334574711753,\n        \"max\": 2290.0,\n        \"num_unique_values\": 8,\n        \"samples\": [\n          122.73287507292576,\n          132.84000400000002,\n          2290.0\n        ],\n        \"semantic_type\": \"\",\n        \"description\": \"\"\n      }\n    },\n    {\n      \"column\": \"USO\",\n      \"properties\": {\n        \"dtype\": \"number\",\n        \"std\": 797.0923304678021,\n        \"min\": 7.96,\n        \"max\": 2290.0,\n        \"num_unique_values\": 8,\n        \"samples\": [\n          31.842220856768563,\n          37.8275015,\n          2290.0\n        ],\n        \"semantic_type\": \"\",\n        \"description\": \"\"\n      }\n    },\n    {\n      \"column\": \"SLV\",\n      \"properties\": {\n        \"dtype\": \"number\",\n        \"std\": 802.7114276824649,\n        \"min\": 7.092566374075398,\n        \"max\": 2290.0,\n        \"num_unique_values\": 8,\n        \"samples\": [\n          20.084996585152837,\n          22.8824995,\n          2290.0\n        ],\n        \"semantic_type\": \"\",\n        \"description\": \"\"\n      }\n    },\n    {\n      \"column\": \"EUR/USD\",\n      \"properties\": {\n        \"dtype\": \"number\",\n        \"std\": 809.2384922213776,\n        \"min\": 0.13154721612113973,\n        \"max\": 2290.0,\n        \"num_unique_values\": 8,\n        \"samples\": [\n          1.2836530519650655,\n          1.36997075,\n          2290.0\n        ],\n        \"semantic_type\": \"\",\n        \"description\": \"\"\n      }\n    }\n  ]\n}"
            }
          },
          "metadata": {},
          "execution_count": 92
        }
      ]
    },
    {
      "cell_type": "code",
      "source": [
        "#removing Date column to get correlation\n",
        "df = pd.read_csv('/content/gld_price_data.csv')\n",
        "columns_to_drop = 'Date'\n",
        "df.drop(columns=[column_to_drop], inplace=True)\n",
        "print(df)"
      ],
      "metadata": {
        "colab": {
          "base_uri": "https://localhost:8080/"
        },
        "id": "1Qz6gDRAiPMT",
        "outputId": "c3175792-eda4-449e-9c55-cee9d13e80e7"
      },
      "execution_count": null,
      "outputs": [
        {
          "output_type": "stream",
          "name": "stdout",
          "text": [
            "              SPX         GLD        USO      SLV   EUR/USD\n",
            "0     1447.160034   84.860001  78.470001  15.1800  1.471692\n",
            "1     1447.160034   85.570000  78.370003  15.2850  1.474491\n",
            "2     1411.630005   85.129997  77.309998  15.1670  1.475492\n",
            "3     1416.180054   84.769997  75.500000  15.0530  1.468299\n",
            "4     1390.189941   86.779999  76.059998  15.5900  1.557099\n",
            "...           ...         ...        ...      ...       ...\n",
            "2285  2671.919922  124.589996  14.060000  15.5100  1.186789\n",
            "2286  2697.790039  124.330002  14.370000  15.5300  1.184722\n",
            "2287  2723.070068  125.180000  14.410000  15.7400  1.191753\n",
            "2288  2730.129883  124.489998  14.380000  15.5600  1.193118\n",
            "2289  2725.780029  122.543800  14.405800  15.4542  1.182033\n",
            "\n",
            "[2290 rows x 5 columns]\n"
          ]
        }
      ]
    },
    {
      "cell_type": "markdown",
      "source": [
        "Correlation between in data"
      ],
      "metadata": {
        "id": "2_s42KSmiZdb"
      }
    },
    {
      "cell_type": "code",
      "source": [
        "correlation = df.corr()"
      ],
      "metadata": {
        "id": "Ko9qHJY0VsNw"
      },
      "execution_count": null,
      "outputs": []
    },
    {
      "cell_type": "markdown",
      "source": [
        "Plotting heatmap based on correlation"
      ],
      "metadata": {
        "id": "Z9lHleC3jg2j"
      }
    },
    {
      "cell_type": "code",
      "source": [
        "plt.figure(figsize=(10,10))\n",
        "sns.heatmap(correlation, cbar=True, square=True, fmt='.1f', annot=True, annot_kws={'size':10}, cmap='Greens')"
      ],
      "metadata": {
        "colab": {
          "base_uri": "https://localhost:8080/",
          "height": 829
        },
        "id": "vroe4ogeisr8",
        "outputId": "e247574b-9c4d-4312-a406-daaf546393e2"
      },
      "execution_count": null,
      "outputs": [
        {
          "output_type": "execute_result",
          "data": {
            "text/plain": [
              "<Axes: >"
            ]
          },
          "metadata": {},
          "execution_count": 111
        },
        {
          "output_type": "display_data",
          "data": {
            "text/plain": [
              "<Figure size 1000x1000 with 2 Axes>"
            ],
            "image/png": "[encoded data removed]"
          },
          "metadata": {}
        }
      ]
    },
    {
      "cell_type": "code",
      "source": [
        "print(correlation['GLD'])"
      ],
      "metadata": {
        "colab": {
          "base_uri": "https://localhost:8080/"
        },
        "id": "utRmm7oYkeBM",
        "outputId": "b4e76d0b-5864-4359-8016-99a669b6534a"
      },
      "execution_count": null,
      "outputs": [
        {
          "output_type": "stream",
          "name": "stdout",
          "text": [
            "SPX        0.049345\n",
            "GLD        1.000000\n",
            "USO       -0.186360\n",
            "SLV        0.866632\n",
            "EUR/USD   -0.024375\n",
            "Name: GLD, dtype: float64\n"
          ]
        }
      ]
    },
    {
      "cell_type": "code",
      "source": [
        "sns.displot(gold_data['GLD'], color='yellow')"
      ],
      "metadata": {
        "colab": {
          "base_uri": "https://localhost:8080/",
          "height": 523
        },
        "id": "rPwMcK6zkqZ0",
        "outputId": "eff07cc6-add9-4d3d-e6d5-e17a026c6029"
      },
      "execution_count": null,
      "outputs": [
        {
          "output_type": "execute_result",
          "data": {
            "text/plain": [
              "<seaborn.axisgrid.FacetGrid at 0x7909dc2bcf40>"
            ]
          },
          "metadata": {},
          "execution_count": 113
        },
        {
          "output_type": "display_data",
          "data": {
            "text/plain": [
              "<Figure size 500x500 with 1 Axes>"
            ],
            "image/png": "[encoded data removed]"
          },
          "metadata": {}
        }
      ]
    },
    {
      "cell_type": "markdown",
      "source": [
        "Data Processing"
      ],
      "metadata": {
        "id": "ISMd8eQBlX5x"
      }
    },
    {
      "cell_type": "code",
      "source": [
        "X = gold_data.drop(['GLD'],axis=1)\n",
        "Y = gold_data['GLD']"
      ],
      "metadata": {
        "id": "v0n_vGj1k47U"
      },
      "execution_count": null,
      "outputs": []
    },
    {
      "cell_type": "code",
      "source": [
        "print(X)"
      ],
      "metadata": {
        "colab": {
          "base_uri": "https://localhost:8080/"
        },
        "id": "2VWjfqBJluEC",
        "outputId": "38d397b6-5b72-4168-b8e6-cf1e29fcdcd2"
      },
      "execution_count": null,
      "outputs": [
        {
          "output_type": "stream",
          "name": "stdout",
          "text": [
            "              SPX        USO      SLV   EUR/USD\n",
            "0     1447.160034  78.470001  15.1800  1.471692\n",
            "1     1447.160034  78.370003  15.2850  1.474491\n",
            "2     1411.630005  77.309998  15.1670  1.475492\n",
            "3     1416.180054  75.500000  15.0530  1.468299\n",
            "4     1390.189941  76.059998  15.5900  1.557099\n",
            "...           ...        ...      ...       ...\n",
            "2285  2671.919922  14.060000  15.5100  1.186789\n",
            "2286  2697.790039  14.370000  15.5300  1.184722\n",
            "2287  2723.070068  14.410000  15.7400  1.191753\n",
            "2288  2730.129883  14.380000  15.5600  1.193118\n",
            "2289  2725.780029  14.405800  15.4542  1.182033\n",
            "\n",
            "[2290 rows x 4 columns]\n"
          ]
        }
      ]
    },
    {
      "cell_type": "code",
      "source": [
        "print(Y)"
      ],
      "metadata": {
        "colab": {
          "base_uri": "https://localhost:8080/"
        },
        "id": "Z3F6PQ9Slx-G",
        "outputId": "7f64e1cb-5a7d-4eac-95c2-cb7d525526e1"
      },
      "execution_count": null,
      "outputs": [
        {
          "output_type": "stream",
          "name": "stdout",
          "text": [
            "0        84.860001\n",
            "1        85.570000\n",
            "2        85.129997\n",
            "3        84.769997\n",
            "4        86.779999\n",
            "           ...    \n",
            "2285    124.589996\n",
            "2286    124.330002\n",
            "2287    125.180000\n",
            "2288    124.489998\n",
            "2289    122.543800\n",
            "Name: GLD, Length: 2290, dtype: float64\n"
          ]
        }
      ]
    },
    {
      "cell_type": "code",
      "source": [
        "X_train, X_test, Y_train, Y_test = train_test_split(X,Y, test_size = 0.2, random_state=2)"
      ],
      "metadata": {
        "id": "acLycwlVly-s"
      },
      "execution_count": null,
      "outputs": []
    },
    {
      "cell_type": "markdown",
      "source": [
        "Applying Random Forest Regressor Model"
      ],
      "metadata": {
        "id": "dvO8kWNKm7_e"
      }
    },
    {
      "cell_type": "code",
      "source": [
        "regressor = RandomForestRegressor(n_estimators=100)"
      ],
      "metadata": {
        "id": "NHTpNat_m6Aq"
      },
      "execution_count": null,
      "outputs": []
    },
    {
      "cell_type": "code",
      "source": [
        "regressor.fit(X_train, Y_train)"
      ],
      "metadata": {
        "colab": {
          "base_uri": "https://localhost:8080/",
          "height": 74
        },
        "id": "Eugrgf_DoDF9",
        "outputId": "8791505e-7062-46bd-b334-d4a80bc4e274"
      },
      "execution_count": null,
      "outputs": [
        {
          "output_type": "execute_result",
          "data": {
            "text/plain": [
              "RandomForestRegressor()"
            ],
            "text/html": [
              "<style>#sk-container-id-4 {color: black;background-color: white;}#sk-container-id-4 pre{padding: 0;}#sk-container-id-4 div.sk-toggleable {background-color: white;}#sk-container-id-4 label.sk-toggleable__label {cursor: pointer;display: block;width: 100%;margin-bottom: 0;padding: 0.3em;box-sizing: border-box;text-align: center;}#sk-container-id-4 label.sk-toggleable__label-arrow:before {content: \"▸\";float: left;margin-right: 0.25em;color: #696969;}#sk-container-id-4 label.sk-toggleable__label-arrow:hover:before {color: black;}#sk-container-id-4 div.sk-estimator:hover label.sk-toggleable__label-arrow:before {color: black;}#sk-container-id-4 div.sk-toggleable__content {max-height: 0;max-width: 0;overflow: hidden;text-align: left;background-color: #f0f8ff;}#sk-container-id-4 div.sk-toggleable__content pre {margin: 0.2em;color: black;border-radius: 0.25em;background-color: #f0f8ff;}#sk-container-id-4 input.sk-toggleable__control:checked~div.sk-toggleable__content {max-height: 200px;max-width: 100%;overflow: auto;}#sk-container-id-4 input.sk-toggleable__control:checked~label.sk-toggleable__label-arrow:before {content: \"▾\";}#sk-container-id-4 div.sk-estimator input.sk-toggleable__control:checked~label.sk-toggleable__label {background-color: #d4ebff;}#sk-container-id-4 div.sk-label input.sk-toggleable__control:checked~label.sk-toggleable__label {background-color: #d4ebff;}#sk-container-id-4 input.sk-hidden--visually {border: 0;clip: rect(1px 1px 1px 1px);clip: rect(1px, 1px, 1px, 1px);height: 1px;margin: -1px;overflow: hidden;padding: 0;position: absolute;width: 1px;}#sk-container-id-4 div.sk-estimator {font-family: monospace;background-color: #f0f8ff;border: 1px dotted black;border-radius: 0.25em;box-sizing: border-box;margin-bottom: 0.5em;}#sk-container-id-4 div.sk-estimator:hover {background-color: #d4ebff;}#sk-container-id-4 div.sk-parallel-item::after {content: \"\";width: 100%;border-bottom: 1px solid gray;flex-grow: 1;}#sk-container-id-4 div.sk-label:hover label.sk-toggleable__label {background-color: #d4ebff;}#sk-container-id-4 div.sk-serial::before {content: \"\";position: absolute;border-left: 1px solid gray;box-sizing: border-box;top: 0;bottom: 0;left: 50%;z-index: 0;}#sk-container-id-4 div.sk-serial {display: flex;flex-direction: column;align-items: center;background-color: white;padding-right: 0.2em;padding-left: 0.2em;position: relative;}#sk-container-id-4 div.sk-item {position: relative;z-index: 1;}#sk-container-id-4 div.sk-parallel {display: flex;align-items: stretch;justify-content: center;background-color: white;position: relative;}#sk-container-id-4 div.sk-item::before, #sk-container-id-4 div.sk-parallel-item::before {content: \"\";position: absolute;border-left: 1px solid gray;box-sizing: border-box;top: 0;bottom: 0;left: 50%;z-index: -1;}#sk-container-id-4 div.sk-parallel-item {display: flex;flex-direction: column;z-index: 1;position: relative;background-color: white;}#sk-container-id-4 div.sk-parallel-item:first-child::after {align-self: flex-end;width: 50%;}#sk-container-id-4 div.sk-parallel-item:last-child::after {align-self: flex-start;width: 50%;}#sk-container-id-4 div.sk-parallel-item:only-child::after {width: 0;}#sk-container-id-4 div.sk-dashed-wrapped {border: 1px dashed gray;margin: 0 0.4em 0.5em 0.4em;box-sizing: border-box;padding-bottom: 0.4em;background-color: white;}#sk-container-id-4 div.sk-label label {font-family: monospace;font-weight: bold;display: inline-block;line-height: 1.2em;}#sk-container-id-4 div.sk-label-container {text-align: center;}#sk-container-id-4 div.sk-container {/* jupyter's `normalize.less` sets `[hidden] { display: none; }` but bootstrap.min.css set `[hidden] { display: none !important; }` so we also need the `!important` here to be able to override the default hidden behavior on the sphinx rendered scikit-learn.org. See: https://github.com/scikit-learn/scikit-learn/issues/21755 */display: inline-block !important;position: relative;}#sk-container-id-4 div.sk-text-repr-fallback {display: none;}</style><div id=\"sk-container-id-4\" class=\"sk-top-container\"><div class=\"sk-text-repr-fallback\"><pre>RandomForestRegressor()</pre><b>In a Jupyter environment, please rerun this cell to show the HTML representation or trust the notebook. <br />On GitHub, the HTML representation is unable to render, please try loading this page with nbviewer.org.</b></div><div class=\"sk-container\" hidden><div class=\"sk-item\"><div class=\"sk-estimator sk-toggleable\"><input class=\"sk-toggleable__control sk-hidden--visually\" id=\"sk-estimator-id-4\" type=\"checkbox\" checked><label for=\"sk-estimator-id-4\" class=\"sk-toggleable__label sk-toggleable__label-arrow\">RandomForestRegressor</label><div class=\"sk-toggleable__content\"><pre>RandomForestRegressor()</pre></div></div></div></div></div>"
            ]
          },
          "metadata": {},
          "execution_count": 128
        }
      ]
    },
    {
      "cell_type": "markdown",
      "source": [
        "Model Evaluation"
      ],
      "metadata": {
        "id": "4fuKHFMjofIa"
      }
    },
    {
      "cell_type": "code",
      "source": [
        "test_data_prediction = regressor.predict(X_test)"
      ],
      "metadata": {
        "id": "TH7rngLPoh2d"
      },
      "execution_count": null,
      "outputs": []
    },
    {
      "cell_type": "code",
      "source": [
        "print(test_data_prediction)"
      ],
      "metadata": {
        "colab": {
          "base_uri": "https://localhost:8080/"
        },
        "id": "0OLKjbY6W_qL",
        "outputId": "ed5d36f4-56b6-496e-f2c9-da252cbb051b"
      },
      "execution_count": null,
      "outputs": [
        {
          "output_type": "stream",
          "name": "stdout",
          "text": [
            "[168.5673996   81.81099985 116.25490018 127.53110042 120.66110145\n",
            " 154.88949674 150.64159887 126.0393003  117.63779887 126.18410023\n",
            " 116.9224007  172.46120086 141.67429812 167.71649794 115.03410021\n",
            " 117.84670076 140.65600228 170.10620076 158.77850374 158.62939899\n",
            " 155.16279972 125.15110045 175.68759928 157.17390413 125.16690038\n",
            "  93.74939975  77.83530018 120.44939988 118.99799905 167.38419934\n",
            "  88.15850017 125.03299969  91.23770071 117.52160029 121.17459972\n",
            " 135.98090003 115.54520121 115.24670062 147.63339932 107.25520107\n",
            " 104.40900258  87.0792977  126.4128004  117.78440065 154.06699892\n",
            " 119.69689965 108.33000034 108.16319811  93.07350019 127.16759756\n",
            "  75.11890039 113.5904993  121.26510028 111.26009906 118.89039893\n",
            " 120.64789949 158.63560005 167.74160154 146.96919708  85.91479846\n",
            "  94.24550009  86.79089912  90.64510041 118.96590104 126.36430058\n",
            " 127.51030024 169.2001003  122.32619927 117.48449884  98.46440014\n",
            " 167.77970039 143.20659839 132.14050152 121.25960237 121.61969961\n",
            " 119.8078004  114.72390169 118.23790052 106.9907011  127.86610009\n",
            " 113.95980013 107.0556003  116.96700036 119.69279897  89.14870075\n",
            "  88.27239858 146.41820206 127.13609981 113.31590048 110.17369803\n",
            " 108.22519909  77.09109931 170.25160196 113.95059911 121.64729888\n",
            " 128.00640163 155.13559771  91.77679906 136.23300147 158.42590232\n",
            " 125.91710058 125.09730081 130.62290195 114.9718012  119.82580002\n",
            "  92.1129999  110.14609891 168.49999947 156.13599993 114.11969945\n",
            " 106.6917012   78.96810015 113.2524999  125.75110039 107.42529989\n",
            " 119.1059012  155.6522028  159.76399951 119.95650036 134.98570247\n",
            " 101.17399992 117.65889778 119.25510007 113.13890106 102.80029939\n",
            " 159.7821973   99.10910036 148.6876989  125.61510111 170.04909947\n",
            " 125.88019872 127.34929748 127.61250234 113.70549923 112.75400047\n",
            " 123.54709904 102.27959924  89.12590006 124.54159972 102.00809952\n",
            " 107.00889929 113.11250054 117.34170093  99.3792995  121.65340071\n",
            " 163.31669885  87.42029871 106.75039927 117.25360085 127.70170139\n",
            " 124.22680067  80.66399953 120.36420059 157.49059764  87.84269979\n",
            " 110.45699904 118.89599933 172.94539881 103.0601993  105.84280044\n",
            " 122.58760005 157.79959741  87.56039839  93.1904002  112.80920028\n",
            " 177.61379921 114.48989989 119.27750015  94.61350081 125.91089986\n",
            " 165.80180141 114.89550046 116.81250128  88.32769855 148.76010084\n",
            " 120.36799946  89.45719973 111.41939984 117.56840089 118.76130124\n",
            "  88.32149941  94.16109998 116.96990016 118.34860217 120.1839006\n",
            " 126.75289825 121.99929982 150.14840009 165.59240135 118.60029961\n",
            " 120.27370162 151.29930111 118.73049946 173.30709891 105.50969931\n",
            " 104.9995016  148.77990095 113.61910064 124.87360116 147.01400054\n",
            " 119.59290109 115.32530069 111.79599976 113.51210199 142.09940149\n",
            " 117.85899762 102.96490048 115.90050112 103.71900194  99.02860022\n",
            " 117.32620073  90.65570026  91.55190026 153.53329946 102.65539975\n",
            " 154.26570107 114.45120136 138.27740099  90.16229817 115.48749953\n",
            " 114.79199974 122.87610027 121.91680004 165.40700099  92.9291994\n",
            " 135.88960168 121.34879904 120.89830096 104.62860005 140.5020032\n",
            " 121.61449932 116.70300056 113.62520068 127.27589742 122.65719951\n",
            " 125.75119939 121.22030021  86.77799921 132.20460153 146.11270153\n",
            "  92.72029945 158.02009955 158.62090214 126.11579905 165.18059978\n",
            " 108.84619978 110.39540043 103.70059856  94.42350054 127.87250287\n",
            " 107.24120064 160.50580051 121.54010068 131.8416007  130.59550159\n",
            " 160.88979962  90.29779821 175.32780111 128.02760015 126.89789855\n",
            "  86.58799942 124.56369893 150.10799736  89.68040016 106.81369943\n",
            " 109.21909993  84.01259898 136.30060022 154.68560179 138.64260421\n",
            "  74.24310007 152.43460154 125.68580016 126.73479972 127.47549917\n",
            " 108.67989939 156.57979973 114.61980115 116.96060152 125.41589944\n",
            " 153.97920141 121.30659998 156.43549883  92.99750076 125.4669011\n",
            " 125.80100063  87.74370027  92.30469874 126.4746989  128.2311032\n",
            " 113.20330074 117.62589745 120.88240046 127.1492985  120.11340118\n",
            " 136.03990052  93.95269979 119.71620034 113.2512014   94.23219958\n",
            " 108.84659931  86.78369902 109.41079948  89.56779981  92.48410014\n",
            " 131.65230273 162.43350058  89.34049991 119.69170099 133.32650195\n",
            " 123.74870032 128.4007019  101.91229848  89.06679885 131.57730075\n",
            " 120.16740058 108.77760021 170.58380148 115.19930052  86.59039912\n",
            " 118.67980082  91.04009959 162.01680062 116.41200036 121.59690034\n",
            " 160.16459784 120.13949918 112.85829938 108.50389879 126.74369968\n",
            "  76.30550001 103.03370012 127.88870306 121.86549878  92.65000009\n",
            " 131.62010074 118.0224011  116.0770998  154.83360224 159.7730005\n",
            " 110.15949947 154.35359702 119.24980092 160.38049986 118.7725006\n",
            " 158.01889931 115.10029968 116.71140027 147.98259874 114.86240061\n",
            " 125.84169833 165.9350987  117.71299986 124.84549924 153.06350362\n",
            " 153.53240277 132.03630063 114.69550007 121.29580203 124.83890092\n",
            "  89.6846007  123.10479981 155.32770173 112.05970071 106.62349952\n",
            " 161.36200127 118.21789926 165.80909984 133.98430088 114.77029979\n",
            " 152.86109803 168.76660066 114.63780023 113.97190104 158.41449927\n",
            "  84.92069941 127.0662009  127.97290056 128.88169967 124.37490093\n",
            " 123.72350049  90.66770043 153.05770051  97.06119978 137.08620011\n",
            "  89.03169917 106.85900032 115.00320045 112.56160049 124.40399926\n",
            "  91.44139879 125.45110123 162.37849853 119.84289889 164.98390088\n",
            " 126.74379795 112.4253004  127.4588994   95.12699911  91.26339978\n",
            " 103.40229913 120.82630046  82.68889962 126.38690001 159.62750346\n",
            " 117.17760074 118.11869969 119.9000998  122.73559954 120.12630158\n",
            " 121.58769976 118.31800058 107.15999991 148.24559977 126.22109851\n",
            " 115.68930098  74.39260002 127.78000089 154.33960062 122.25330001\n",
            " 125.66920083  88.70590034 104.20609887 125.11150043 120.30380018\n",
            "  73.52790073 151.59369914 121.27370041 104.7781      86.42649788\n",
            " 115.13599916 172.2943989  119.68990026 159.44139871 113.24289963\n",
            " 121.42789972 118.447301    96.00279991 118.59439997 125.89850024\n",
            " 118.36109957  96.32730125 153.87550103 121.82370012 147.76970031\n",
            " 159.11980213 113.89339992 122.37159969 148.84409814 127.01910063\n",
            " 165.8707004  135.06710056 119.94229967 167.09379801 108.25969922\n",
            " 121.79409865 139.08550086 106.81329906]\n"
          ]
        }
      ]
    },
    {
      "cell_type": "code",
      "source": [
        "#R squared error\n",
        "error_score = metrics.r2_score(Y_test, test_data_prediction)\n",
        "print(\"R squared Error:\", error_score)"
      ],
      "metadata": {
        "colab": {
          "base_uri": "https://localhost:8080/"
        },
        "id": "haBHaeGHo17i",
        "outputId": "a2dc7d77-5037-4077-cf29-2718a3664228"
      },
      "execution_count": null,
      "outputs": [
        {
          "output_type": "stream",
          "name": "stdout",
          "text": [
            "R squared Error: 0.989429797589801\n"
          ]
        }
      ]
    },
    {
      "cell_type": "markdown",
      "source": [
        "Compare Actual Values and Predicted Values"
      ],
      "metadata": {
        "id": "CVNY8Wz3rBsw"
      }
    },
    {
      "cell_type": "code",
      "source": [
        "#Coverting Y_test into a list to avoid error\n",
        "Y_test = list(Y_test)"
      ],
      "metadata": {
        "id": "lZ-csfOsqvM8"
      },
      "execution_count": null,
      "outputs": []
    },
    {
      "cell_type": "code",
      "source": [
        "plt.plot(Y_test, color='red', label='Actual Value')\n",
        "plt.plot(test_data_prediction, color='yellow', label='Predicted Value')\n",
        "plt.title('Actual Price vs Predicted Price')\n",
        "plt.xlabel('Number of values')\n",
        "plt.ylabel('Gold Price')\n",
        "plt.legend()\n",
        "plt.show"
      ],
      "metadata": {
        "colab": {
          "base_uri": "https://localhost:8080/",
          "height": 641
        },
        "id": "aIznAD3yrRja",
        "outputId": "15a23525-dd0e-4e7d-eee2-d4052f44ac1b"
      },
      "execution_count": null,
      "outputs": [
        {
          "output_type": "execute_result",
          "data": {
            "text/plain": [
              "<function matplotlib.pyplot.show(close=None, block=None)>"
            ],
            "text/html": [
              "<div style=\"max-width:800px; border: 1px solid var(--colab-border-color);\"><style>\n",
              "      pre.function-repr-contents {\n",
              "        overflow-x: auto;\n",
              "        padding: 8px 12px;\n",
              "        max-height: 500px;\n",
              "      }\n",
              "\n",
              "      pre.function-repr-contents.function-repr-contents-collapsed {\n",
              "        cursor: pointer;\n",
              "        max-height: 100px;\n",
              "      }\n",
              "    </style>\n",
              "    <pre style=\"white-space: initial; background:\n",
              "         var(--colab-secondary-surface-color); padding: 8px 12px;\n",
              "         border-bottom: 1px solid var(--colab-border-color);\"><b>matplotlib.pyplot.show</b><br/>def show(*args, **kwargs)</pre><pre class=\"function-repr-contents function-repr-contents-collapsed\" style=\"\"><a class=\"filepath\" style=\"display:none\" href=\"#\">/usr/local/lib/python3.10/dist-packages/matplotlib/pyplot.py</a>Display all open figures.\n",
              "\n",
              "Parameters\n",
              "----------\n",
              "block : bool, optional\n",
              "    Whether to wait for all figures to be closed before returning.\n",
              "\n",
              "    If `True` block and run the GUI main loop until all figure windows\n",
              "    are closed.\n",
              "\n",
              "    If `False` ensure that all figure windows are displayed and return\n",
              "    immediately.  In this case, you are responsible for ensuring\n",
              "    that the event loop is running to have responsive figures.\n",
              "\n",
              "    Defaults to True in non-interactive mode and to False in interactive\n",
              "    mode (see `.pyplot.isinteractive`).\n",
              "\n",
              "See Also\n",
              "--------\n",
              "ion : Enable interactive mode, which shows / updates the figure after\n",
              "      every plotting command, so that calling ``show()`` is not necessary.\n",
              "ioff : Disable interactive mode.\n",
              "savefig : Save the figure to an image file instead of showing it on screen.\n",
              "\n",
              "Notes\n",
              "-----\n",
              "**Saving figures to file and showing a window at the same time**\n",
              "\n",
              "If you want an image file as well as a user interface window, use\n",
              "`.pyplot.savefig` before `.pyplot.show`. At the end of (a blocking)\n",
              "``show()`` the figure is closed and thus unregistered from pyplot. Calling\n",
              "`.pyplot.savefig` afterwards would save a new and thus empty figure. This\n",
              "limitation of command order does not apply if the show is non-blocking or\n",
              "if you keep a reference to the figure and use `.Figure.savefig`.\n",
              "\n",
              "**Auto-show in jupyter notebooks**\n",
              "\n",
              "The jupyter backends (activated via ``%matplotlib inline``,\n",
              "``%matplotlib notebook``, or ``%matplotlib widget``), call ``show()`` at\n",
              "the end of every cell by default. Thus, you usually don&#x27;t have to call it\n",
              "explicitly there.</pre>\n",
              "      <script>\n",
              "      if (google.colab.kernel.accessAllowed && google.colab.files && google.colab.files.view) {\n",
              "        for (const element of document.querySelectorAll('.filepath')) {\n",
              "          element.style.display = 'block'\n",
              "          element.onclick = (event) => {\n",
              "            event.preventDefault();\n",
              "            event.stopPropagation();\n",
              "            google.colab.files.view(element.textContent, 401);\n",
              "          };\n",
              "        }\n",
              "      }\n",
              "      for (const element of document.querySelectorAll('.function-repr-contents')) {\n",
              "        element.onclick = (event) => {\n",
              "          event.preventDefault();\n",
              "          event.stopPropagation();\n",
              "          element.classList.toggle('function-repr-contents-collapsed');\n",
              "        };\n",
              "      }\n",
              "      </script>\n",
              "      </div>"
            ]
          },
          "metadata": {},
          "execution_count": 133
        },
        {
          "output_type": "display_data",
          "data": {
            "text/plain": [
              "<Figure size 640x480 with 1 Axes>"
            ],
            "image/png": "[encoded data removed]"
          },
          "metadata": {}
        }
      ]
    },
    {
      "cell_type": "markdown",
      "source": [
        "Applying Linear Regression Model"
      ],
      "metadata": {
        "id": "HV1OO7_v7Ru3"
      }
    },
    {
      "cell_type": "code",
      "source": [
        "model = LinearRegression()\n",
        "model.fit(X_train, Y_train)\n",
        "predictions = model.predict(X_test)"
      ],
      "metadata": {
        "id": "KUninoVY7qgN"
      },
      "execution_count": null,
      "outputs": []
    },
    {
      "cell_type": "markdown",
      "source": [
        "Results of Linear Regression Model"
      ],
      "metadata": {
        "id": "EQWkD5kwAi7y"
      }
    },
    {
      "cell_type": "code",
      "source": [
        "test_data_prediction = model.predict(X_test)"
      ],
      "metadata": {
        "id": "1iyWgT4w744H"
      },
      "execution_count": null,
      "outputs": []
    },
    {
      "cell_type": "code",
      "source": [
        "print(test_data_prediction)"
      ],
      "metadata": {
        "colab": {
          "base_uri": "https://localhost:8080/"
        },
        "id": "WmuehFZeCHF1",
        "outputId": "1c504e11-b70a-46d2-8fed-10cc12a76388"
      },
      "execution_count": null,
      "outputs": [
        {
          "output_type": "stream",
          "name": "stdout",
          "text": [
            "[159.45290968  81.50858067 113.4868037  128.55153817 126.20403783\n",
            " 141.31818338 165.49416492 124.44197659 113.95389904 122.9965895\n",
            " 113.95492464 174.89529849 132.66890174 159.24793304 118.8791679\n",
            " 122.14315717 150.37153054 161.27175405 152.2792036  162.19946709\n",
            " 145.88372183 118.07669395 180.21729122 178.13331554 123.51701986\n",
            "  98.82914322  76.63486248 119.38435511 113.85027665 159.25706609\n",
            "  93.76037617 120.05334649  88.61086583 114.28801659 112.77954274\n",
            " 144.19518102 118.78252489 115.87334354 144.06409553 113.81864246\n",
            " 100.49676727  89.42842238 120.36720699 110.47635305 146.4894628\n",
            " 119.30321261 110.99311348 111.3386287   96.48139076 123.40842816\n",
            "  79.51413425 115.36111603 121.78896764 114.55367722 120.9074622\n",
            " 117.10612464 152.31198525 182.7735091  196.73570503  91.06670951\n",
            " 101.92097594  87.48443506  94.33158785 119.17357764 121.8935122\n",
            " 125.85678089 163.2699701  122.91100556 113.55098736 104.06905043\n",
            " 155.16775229 176.87972077 125.62460858 113.85896766 119.69577146\n",
            " 120.03159609 117.85194226 118.35897733 113.72954121 129.97412373\n",
            " 121.74279861 104.64163725 117.17374823 126.31757797  94.63054496\n",
            "  88.6429881  173.79414659 123.3889615  121.11367109 106.85139516\n",
            " 102.43120839  75.64721451 160.63204133 116.53485791 123.43284852\n",
            " 128.90964962 141.9754171   94.90681665 140.59107397 150.88254462\n",
            " 120.61400122 126.18758167 126.15751557 117.79050312 120.23630249\n",
            "  96.07847005 108.46289277 160.74032164 149.25506194 116.90461024\n",
            " 101.89683477  78.55100685 113.55252108 121.86482779 111.50766509\n",
            " 119.97033408 144.93538115 150.48099293 120.46444466 148.63103233\n",
            " 102.36169588 113.04232004 116.67313346 114.17074491 111.72097362\n",
            " 149.60529086 103.27069375 162.8243783  127.26240013 159.3553434\n",
            " 122.69414947 123.01751489 121.65730575 114.16407868 119.73006341\n",
            " 121.6690294  110.41148326  93.51351227 120.88718035 105.29371566\n",
            " 105.74311748 121.82956746 123.37061551 104.36058862 124.41163091\n",
            " 157.15019835  90.2875932  111.75426942 116.24341673 129.71742482\n",
            " 122.66204747  86.86560029 125.58104783 149.1558729   93.20088142\n",
            " 113.41951717 114.76473252 174.20857764 111.54818695 112.26438102\n",
            " 124.60042052 149.13827841  92.28668121  96.62221445 120.33971987\n",
            " 181.05999744 122.20840259 116.75008011  99.19024942 119.31093226\n",
            " 153.69884139 117.41344481 116.04572722  88.49265654 201.18121904\n",
            " 112.70327442  95.90817139 110.27893385 110.79239714 124.15722345\n",
            "  91.40940976  99.25381492 118.22481586 111.46207587 120.21558021\n",
            " 123.73713755 116.59830111 149.21680142 157.42793857 121.43291003\n",
            " 118.67130713 145.28995075 111.46213774 173.82514998 106.34128071\n",
            " 112.64167754 202.03133513 121.34066544 123.19875899 162.56606178\n",
            " 111.96236108 116.9192883  110.19610625 111.5230842  143.44486659\n",
            " 113.74396159 111.96962888 116.62448493 100.72432155 105.04545753\n",
            " 119.94849788  96.83170431  95.42249477 143.72420099 111.70859517\n",
            " 145.44386748 112.09462627 159.67384334  90.69074117 113.87973255\n",
            " 117.10614529 120.83182786 116.0398794  156.17508598 100.41143402\n",
            " 138.51120883 122.80981088 121.73144105 111.22063915 145.12280834\n",
            " 119.62835114 118.93736976 121.12559311 123.49477293 119.45384482\n",
            " 121.68552767 122.79803947  89.85590671 127.5285141  143.49374375\n",
            "  89.13511679 163.81560356 150.56348474 125.36238887 157.29133434\n",
            " 118.5962307  114.76924715 110.41074389  99.27940825 129.19134616\n",
            " 104.91019759 164.50553141 124.27951869 127.94576049 126.33265293\n",
            " 152.92260953  91.02635368 180.12688271 121.33206179 123.3805987\n",
            "  92.93820488 118.91049021 167.74751536  95.97626635 112.07153519\n",
            " 105.48610035  82.39309463 129.36811507 147.6260147  145.12559953\n",
            "  81.06850359 145.72494054 125.0873386  123.29241873 121.55626896\n",
            " 106.21901712 144.37736667 117.65217212 123.67398912 119.81906032\n",
            " 146.09219012 121.31201565 143.70780585  96.75332067 121.04949103\n",
            " 118.85801666  95.85724353  95.7005734  122.83735573 120.23931521\n",
            " 114.752374   111.3848162  122.11769927 123.70751131 118.59965555\n",
            " 144.90842651  99.26420076 122.09583773 109.34073179  97.6923005\n",
            " 103.82858753  82.17668901 108.48564656  94.58386165  99.36237847\n",
            " 127.92063336 154.53006174  94.83214737 120.56119213 125.27193692\n",
            " 123.741244   123.153979   110.65471319  93.77130654 144.04886361\n",
            " 118.70953745 111.64287284 159.07092617 116.22058371  89.59449933\n",
            " 125.3954476   93.77796895 155.10683142 119.70840177 120.89033884\n",
            " 150.21060248 112.07266487 112.17031901 103.40785949 121.88973962\n",
            "  79.39417285 111.32332444 129.57981579 121.20050645  97.51862149\n",
            " 138.03369157 117.14618729 120.79220009 147.4118315  149.15097787\n",
            " 115.34630618 156.03123936 125.80296997 150.0364708  125.49592695\n",
            " 152.08236215 113.66641537 120.94533895 160.95425308 116.80893399\n",
            " 125.33117629 157.17971833 120.4838592  125.66320966 147.16276169\n",
            " 141.23191504 127.86839214 116.49844827 113.86003172 125.56616732\n",
            "  93.7151239  119.91858182 143.5779658  110.49294691 111.56151552\n",
            " 153.32389533 117.5161175  159.14273208 130.61792167 120.47996196\n",
            " 140.69432122 162.0360364  113.23249654 115.78985464 153.13016467\n",
            "  87.59723109 120.75954152 129.37236482 125.08256637 124.47800179\n",
            " 122.52210381  94.36181387 142.56208797 104.65794024 145.68266189\n",
            "  93.1734386  104.70960227 116.54046577 120.5260613  120.44862385\n",
            "  94.68963425 120.59695494 154.15009906 117.18925871 156.49657478\n",
            " 123.86401547 110.41664959 124.85086427 100.6794172   94.36971456\n",
            " 105.71510695 122.36927215  79.9786057  126.70980467 152.88190713\n",
            " 114.88722911 114.97966394 119.08904866 116.79453493 122.84487067\n",
            " 120.91030351 120.88673239 105.0696433  191.90883411 122.59664436\n",
            " 116.62755088  77.84989594 124.65745662 143.2709885  120.37043229\n",
            " 121.03655506  94.50745135 111.36682253 119.75471172 112.48632277\n",
            "  79.13563026 142.62965128 121.89588529 113.07538385  88.3918062\n",
            " 114.03342237 163.40511021 125.20580519 152.11443433 113.25319918\n",
            " 118.62431992 117.28641957 104.68078767 118.41921617 126.05035311\n",
            " 120.41292474 100.69533386 143.8328044  121.01265419 160.52275467\n",
            " 149.57414181 108.42224119 120.97109044 158.885207   118.21457812\n",
            " 158.11607219 143.83779103 120.47800019 159.86639242 111.24045013\n",
            " 126.4542079  144.93505484 106.94838427]\n"
          ]
        }
      ]
    },
    {
      "cell_type": "code",
      "source": [
        "# R squared error\n",
        "error_score = metrics.r2_score(Y_test, test_data_prediction)\n",
        "print(\"R squared error : \", error_score)"
      ],
      "metadata": {
        "colab": {
          "base_uri": "https://localhost:8080/"
        },
        "id": "lSUrcSt6CR0G",
        "outputId": "1bdb71d3-c83b-4f5b-a6b7-af97f6650199"
      },
      "execution_count": null,
      "outputs": [
        {
          "output_type": "stream",
          "name": "stdout",
          "text": [
            "R squared error :  0.8657886565869237\n"
          ]
        }
      ]
    },
    {
      "cell_type": "code",
      "source": [
        "Y_test = list(Y_test)"
      ],
      "metadata": {
        "id": "0F6kM1-mCYdI"
      },
      "execution_count": null,
      "outputs": []
    },
    {
      "cell_type": "code",
      "source": [
        "plt.plot(Y_test, color='red', label='Actual Value')\n",
        "plt.plot(test_data_prediction, color='yellow', label='Predicted Value')\n",
        "plt.title('Actual Price vs Predicted Price')\n",
        "plt.xlabel('Number of values')\n",
        "plt.ylabel('Gold Price')\n",
        "plt.legend()\n",
        "plt.show"
      ],
      "metadata": {
        "colab": {
          "base_uri": "https://localhost:8080/",
          "height": 641
        },
        "id": "N4A0yWSxCZe5",
        "outputId": "9051d929-af77-43bb-97d4-f116ed1b9b1a"
      },
      "execution_count": null,
      "outputs": [
        {
          "output_type": "execute_result",
          "data": {
            "text/plain": [
              "<function matplotlib.pyplot.show(close=None, block=None)>"
            ],
            "text/html": [
              "<div style=\"max-width:800px; border: 1px solid var(--colab-border-color);\"><style>\n",
              "      pre.function-repr-contents {\n",
              "        overflow-x: auto;\n",
              "        padding: 8px 12px;\n",
              "        max-height: 500px;\n",
              "      }\n",
              "\n",
              "      pre.function-repr-contents.function-repr-contents-collapsed {\n",
              "        cursor: pointer;\n",
              "        max-height: 100px;\n",
              "      }\n",
              "    </style>\n",
              "    <pre style=\"white-space: initial; background:\n",
              "         var(--colab-secondary-surface-color); padding: 8px 12px;\n",
              "         border-bottom: 1px solid var(--colab-border-color);\"><b>matplotlib.pyplot.show</b><br/>def show(*args, **kwargs)</pre><pre class=\"function-repr-contents function-repr-contents-collapsed\" style=\"\"><a class=\"filepath\" style=\"display:none\" href=\"#\">/usr/local/lib/python3.10/dist-packages/matplotlib/pyplot.py</a>Display all open figures.\n",
              "\n",
              "Parameters\n",
              "----------\n",
              "block : bool, optional\n",
              "    Whether to wait for all figures to be closed before returning.\n",
              "\n",
              "    If `True` block and run the GUI main loop until all figure windows\n",
              "    are closed.\n",
              "\n",
              "    If `False` ensure that all figure windows are displayed and return\n",
              "    immediately.  In this case, you are responsible for ensuring\n",
              "    that the event loop is running to have responsive figures.\n",
              "\n",
              "    Defaults to True in non-interactive mode and to False in interactive\n",
              "    mode (see `.pyplot.isinteractive`).\n",
              "\n",
              "See Also\n",
              "--------\n",
              "ion : Enable interactive mode, which shows / updates the figure after\n",
              "      every plotting command, so that calling ``show()`` is not necessary.\n",
              "ioff : Disable interactive mode.\n",
              "savefig : Save the figure to an image file instead of showing it on screen.\n",
              "\n",
              "Notes\n",
              "-----\n",
              "**Saving figures to file and showing a window at the same time**\n",
              "\n",
              "If you want an image file as well as a user interface window, use\n",
              "`.pyplot.savefig` before `.pyplot.show`. At the end of (a blocking)\n",
              "``show()`` the figure is closed and thus unregistered from pyplot. Calling\n",
              "`.pyplot.savefig` afterwards would save a new and thus empty figure. This\n",
              "limitation of command order does not apply if the show is non-blocking or\n",
              "if you keep a reference to the figure and use `.Figure.savefig`.\n",
              "\n",
              "**Auto-show in jupyter notebooks**\n",
              "\n",
              "The jupyter backends (activated via ``%matplotlib inline``,\n",
              "``%matplotlib notebook``, or ``%matplotlib widget``), call ``show()`` at\n",
              "the end of every cell by default. Thus, you usually don&#x27;t have to call it\n",
              "explicitly there.</pre>\n",
              "      <script>\n",
              "      if (google.colab.kernel.accessAllowed && google.colab.files && google.colab.files.view) {\n",
              "        for (const element of document.querySelectorAll('.filepath')) {\n",
              "          element.style.display = 'block'\n",
              "          element.onclick = (event) => {\n",
              "            event.preventDefault();\n",
              "            event.stopPropagation();\n",
              "            google.colab.files.view(element.textContent, 401);\n",
              "          };\n",
              "        }\n",
              "      }\n",
              "      for (const element of document.querySelectorAll('.function-repr-contents')) {\n",
              "        element.onclick = (event) => {\n",
              "          event.preventDefault();\n",
              "          event.stopPropagation();\n",
              "          element.classList.toggle('function-repr-contents-collapsed');\n",
              "        };\n",
              "      }\n",
              "      </script>\n",
              "      </div>"
            ]
          },
          "metadata": {},
          "execution_count": 139
        },
        {
          "output_type": "display_data",
          "data": {
            "text/plain": [
              "<Figure size 640x480 with 1 Axes>"
            ],
            "image/png": "[encoded data removed]"
          },
          "metadata": {}
        }
      ]
    },
    {
      "cell_type": "markdown",
      "source": [
        "Applying Decision Tree Regressor Model\n"
      ],
      "metadata": {
        "id": "7T5R57WICzRE"
      }
    },
    {
      "cell_type": "code",
      "source": [
        "DTmodel = DecisionTreeRegressor()\n",
        "DTmodel.fit(X_train, Y_train)\n",
        "DTpredictions = DTmodel.predict(X_test)"
      ],
      "metadata": {
        "id": "CfRRemvIEMyK"
      },
      "execution_count": null,
      "outputs": []
    },
    {
      "cell_type": "markdown",
      "source": [
        "Results of Desicion Tree Regressor Model"
      ],
      "metadata": {
        "id": "S7w-Kd1CGsOS"
      }
    },
    {
      "cell_type": "code",
      "source": [
        "test_data_prediction = model.predict(X_test)"
      ],
      "metadata": {
        "id": "lO_UJOZ1GwXh"
      },
      "execution_count": null,
      "outputs": []
    },
    {
      "cell_type": "code",
      "source": [
        "print(test_data_prediction)"
      ],
      "metadata": {
        "colab": {
          "base_uri": "https://localhost:8080/"
        },
        "id": "LIyYYPY3G3tK",
        "outputId": "4087f673-bbbc-453c-e405-6b8e92259603"
      },
      "execution_count": null,
      "outputs": [
        {
          "output_type": "stream",
          "name": "stdout",
          "text": [
            "[159.45290968  81.50858067 113.4868037  128.55153817 126.20403783\n",
            " 141.31818338 165.49416492 124.44197659 113.95389904 122.9965895\n",
            " 113.95492464 174.89529849 132.66890174 159.24793304 118.8791679\n",
            " 122.14315717 150.37153054 161.27175405 152.2792036  162.19946709\n",
            " 145.88372183 118.07669395 180.21729122 178.13331554 123.51701986\n",
            "  98.82914322  76.63486248 119.38435511 113.85027665 159.25706609\n",
            "  93.76037617 120.05334649  88.61086583 114.28801659 112.77954274\n",
            " 144.19518102 118.78252489 115.87334354 144.06409553 113.81864246\n",
            " 100.49676727  89.42842238 120.36720699 110.47635305 146.4894628\n",
            " 119.30321261 110.99311348 111.3386287   96.48139076 123.40842816\n",
            "  79.51413425 115.36111603 121.78896764 114.55367722 120.9074622\n",
            " 117.10612464 152.31198525 182.7735091  196.73570503  91.06670951\n",
            " 101.92097594  87.48443506  94.33158785 119.17357764 121.8935122\n",
            " 125.85678089 163.2699701  122.91100556 113.55098736 104.06905043\n",
            " 155.16775229 176.87972077 125.62460858 113.85896766 119.69577146\n",
            " 120.03159609 117.85194226 118.35897733 113.72954121 129.97412373\n",
            " 121.74279861 104.64163725 117.17374823 126.31757797  94.63054496\n",
            "  88.6429881  173.79414659 123.3889615  121.11367109 106.85139516\n",
            " 102.43120839  75.64721451 160.63204133 116.53485791 123.43284852\n",
            " 128.90964962 141.9754171   94.90681665 140.59107397 150.88254462\n",
            " 120.61400122 126.18758167 126.15751557 117.79050312 120.23630249\n",
            "  96.07847005 108.46289277 160.74032164 149.25506194 116.90461024\n",
            " 101.89683477  78.55100685 113.55252108 121.86482779 111.50766509\n",
            " 119.97033408 144.93538115 150.48099293 120.46444466 148.63103233\n",
            " 102.36169588 113.04232004 116.67313346 114.17074491 111.72097362\n",
            " 149.60529086 103.27069375 162.8243783  127.26240013 159.3553434\n",
            " 122.69414947 123.01751489 121.65730575 114.16407868 119.73006341\n",
            " 121.6690294  110.41148326  93.51351227 120.88718035 105.29371566\n",
            " 105.74311748 121.82956746 123.37061551 104.36058862 124.41163091\n",
            " 157.15019835  90.2875932  111.75426942 116.24341673 129.71742482\n",
            " 122.66204747  86.86560029 125.58104783 149.1558729   93.20088142\n",
            " 113.41951717 114.76473252 174.20857764 111.54818695 112.26438102\n",
            " 124.60042052 149.13827841  92.28668121  96.62221445 120.33971987\n",
            " 181.05999744 122.20840259 116.75008011  99.19024942 119.31093226\n",
            " 153.69884139 117.41344481 116.04572722  88.49265654 201.18121904\n",
            " 112.70327442  95.90817139 110.27893385 110.79239714 124.15722345\n",
            "  91.40940976  99.25381492 118.22481586 111.46207587 120.21558021\n",
            " 123.73713755 116.59830111 149.21680142 157.42793857 121.43291003\n",
            " 118.67130713 145.28995075 111.46213774 173.82514998 106.34128071\n",
            " 112.64167754 202.03133513 121.34066544 123.19875899 162.56606178\n",
            " 111.96236108 116.9192883  110.19610625 111.5230842  143.44486659\n",
            " 113.74396159 111.96962888 116.62448493 100.72432155 105.04545753\n",
            " 119.94849788  96.83170431  95.42249477 143.72420099 111.70859517\n",
            " 145.44386748 112.09462627 159.67384334  90.69074117 113.87973255\n",
            " 117.10614529 120.83182786 116.0398794  156.17508598 100.41143402\n",
            " 138.51120883 122.80981088 121.73144105 111.22063915 145.12280834\n",
            " 119.62835114 118.93736976 121.12559311 123.49477293 119.45384482\n",
            " 121.68552767 122.79803947  89.85590671 127.5285141  143.49374375\n",
            "  89.13511679 163.81560356 150.56348474 125.36238887 157.29133434\n",
            " 118.5962307  114.76924715 110.41074389  99.27940825 129.19134616\n",
            " 104.91019759 164.50553141 124.27951869 127.94576049 126.33265293\n",
            " 152.92260953  91.02635368 180.12688271 121.33206179 123.3805987\n",
            "  92.93820488 118.91049021 167.74751536  95.97626635 112.07153519\n",
            " 105.48610035  82.39309463 129.36811507 147.6260147  145.12559953\n",
            "  81.06850359 145.72494054 125.0873386  123.29241873 121.55626896\n",
            " 106.21901712 144.37736667 117.65217212 123.67398912 119.81906032\n",
            " 146.09219012 121.31201565 143.70780585  96.75332067 121.04949103\n",
            " 118.85801666  95.85724353  95.7005734  122.83735573 120.23931521\n",
            " 114.752374   111.3848162  122.11769927 123.70751131 118.59965555\n",
            " 144.90842651  99.26420076 122.09583773 109.34073179  97.6923005\n",
            " 103.82858753  82.17668901 108.48564656  94.58386165  99.36237847\n",
            " 127.92063336 154.53006174  94.83214737 120.56119213 125.27193692\n",
            " 123.741244   123.153979   110.65471319  93.77130654 144.04886361\n",
            " 118.70953745 111.64287284 159.07092617 116.22058371  89.59449933\n",
            " 125.3954476   93.77796895 155.10683142 119.70840177 120.89033884\n",
            " 150.21060248 112.07266487 112.17031901 103.40785949 121.88973962\n",
            "  79.39417285 111.32332444 129.57981579 121.20050645  97.51862149\n",
            " 138.03369157 117.14618729 120.79220009 147.4118315  149.15097787\n",
            " 115.34630618 156.03123936 125.80296997 150.0364708  125.49592695\n",
            " 152.08236215 113.66641537 120.94533895 160.95425308 116.80893399\n",
            " 125.33117629 157.17971833 120.4838592  125.66320966 147.16276169\n",
            " 141.23191504 127.86839214 116.49844827 113.86003172 125.56616732\n",
            "  93.7151239  119.91858182 143.5779658  110.49294691 111.56151552\n",
            " 153.32389533 117.5161175  159.14273208 130.61792167 120.47996196\n",
            " 140.69432122 162.0360364  113.23249654 115.78985464 153.13016467\n",
            "  87.59723109 120.75954152 129.37236482 125.08256637 124.47800179\n",
            " 122.52210381  94.36181387 142.56208797 104.65794024 145.68266189\n",
            "  93.1734386  104.70960227 116.54046577 120.5260613  120.44862385\n",
            "  94.68963425 120.59695494 154.15009906 117.18925871 156.49657478\n",
            " 123.86401547 110.41664959 124.85086427 100.6794172   94.36971456\n",
            " 105.71510695 122.36927215  79.9786057  126.70980467 152.88190713\n",
            " 114.88722911 114.97966394 119.08904866 116.79453493 122.84487067\n",
            " 120.91030351 120.88673239 105.0696433  191.90883411 122.59664436\n",
            " 116.62755088  77.84989594 124.65745662 143.2709885  120.37043229\n",
            " 121.03655506  94.50745135 111.36682253 119.75471172 112.48632277\n",
            "  79.13563026 142.62965128 121.89588529 113.07538385  88.3918062\n",
            " 114.03342237 163.40511021 125.20580519 152.11443433 113.25319918\n",
            " 118.62431992 117.28641957 104.68078767 118.41921617 126.05035311\n",
            " 120.41292474 100.69533386 143.8328044  121.01265419 160.52275467\n",
            " 149.57414181 108.42224119 120.97109044 158.885207   118.21457812\n",
            " 158.11607219 143.83779103 120.47800019 159.86639242 111.24045013\n",
            " 126.4542079  144.93505484 106.94838427]\n"
          ]
        }
      ]
    },
    {
      "cell_type": "code",
      "source": [
        "# R squared error\n",
        "error_score = metrics.r2_score(Y_test, test_data_prediction)\n",
        "print(\"R squared error : \", error_score)"
      ],
      "metadata": {
        "colab": {
          "base_uri": "https://localhost:8080/"
        },
        "id": "eexSg_1BHBVm",
        "outputId": "181d644f-3f76-4e06-95e9-9b30c30789d0"
      },
      "execution_count": null,
      "outputs": [
        {
          "output_type": "stream",
          "name": "stdout",
          "text": [
            "R squared error :  0.8657886565869237\n"
          ]
        }
      ]
    },
    {
      "cell_type": "code",
      "source": [
        "Y_test = list(Y_test)"
      ],
      "metadata": {
        "id": "7fSpqCeiHHjU"
      },
      "execution_count": null,
      "outputs": []
    },
    {
      "cell_type": "code",
      "source": [
        "plt.plot(Y_test, color='red', label='Actual Value')\n",
        "plt.plot(test_data_prediction, color='yellow', label='Predicted Value')\n",
        "plt.title('Actual Price vs Predicted Price')\n",
        "plt.xlabel('Number of values')\n",
        "plt.ylabel('Gold Price')\n",
        "plt.legend()\n",
        "plt.show"
      ],
      "metadata": {
        "colab": {
          "base_uri": "https://localhost:8080/",
          "height": 641
        },
        "id": "1kuIo_zAHL5G",
        "outputId": "2ef004a9-077f-4ee4-f0bc-123553dc5268"
      },
      "execution_count": null,
      "outputs": [
        {
          "output_type": "execute_result",
          "data": {
            "text/plain": [
              "<function matplotlib.pyplot.show(close=None, block=None)>"
            ],
            "text/html": [
              "<div style=\"max-width:800px; border: 1px solid var(--colab-border-color);\"><style>\n",
              "      pre.function-repr-contents {\n",
              "        overflow-x: auto;\n",
              "        padding: 8px 12px;\n",
              "        max-height: 500px;\n",
              "      }\n",
              "\n",
              "      pre.function-repr-contents.function-repr-contents-collapsed {\n",
              "        cursor: pointer;\n",
              "        max-height: 100px;\n",
              "      }\n",
              "    </style>\n",
              "    <pre style=\"white-space: initial; background:\n",
              "         var(--colab-secondary-surface-color); padding: 8px 12px;\n",
              "         border-bottom: 1px solid var(--colab-border-color);\"><b>matplotlib.pyplot.show</b><br/>def show(*args, **kwargs)</pre><pre class=\"function-repr-contents function-repr-contents-collapsed\" style=\"\"><a class=\"filepath\" style=\"display:none\" href=\"#\">/usr/local/lib/python3.10/dist-packages/matplotlib/pyplot.py</a>Display all open figures.\n",
              "\n",
              "Parameters\n",
              "----------\n",
              "block : bool, optional\n",
              "    Whether to wait for all figures to be closed before returning.\n",
              "\n",
              "    If `True` block and run the GUI main loop until all figure windows\n",
              "    are closed.\n",
              "\n",
              "    If `False` ensure that all figure windows are displayed and return\n",
              "    immediately.  In this case, you are responsible for ensuring\n",
              "    that the event loop is running to have responsive figures.\n",
              "\n",
              "    Defaults to True in non-interactive mode and to False in interactive\n",
              "    mode (see `.pyplot.isinteractive`).\n",
              "\n",
              "See Also\n",
              "--------\n",
              "ion : Enable interactive mode, which shows / updates the figure after\n",
              "      every plotting command, so that calling ``show()`` is not necessary.\n",
              "ioff : Disable interactive mode.\n",
              "savefig : Save the figure to an image file instead of showing it on screen.\n",
              "\n",
              "Notes\n",
              "-----\n",
              "**Saving figures to file and showing a window at the same time**\n",
              "\n",
              "If you want an image file as well as a user interface window, use\n",
              "`.pyplot.savefig` before `.pyplot.show`. At the end of (a blocking)\n",
              "``show()`` the figure is closed and thus unregistered from pyplot. Calling\n",
              "`.pyplot.savefig` afterwards would save a new and thus empty figure. This\n",
              "limitation of command order does not apply if the show is non-blocking or\n",
              "if you keep a reference to the figure and use `.Figure.savefig`.\n",
              "\n",
              "**Auto-show in jupyter notebooks**\n",
              "\n",
              "The jupyter backends (activated via ``%matplotlib inline``,\n",
              "``%matplotlib notebook``, or ``%matplotlib widget``), call ``show()`` at\n",
              "the end of every cell by default. Thus, you usually don&#x27;t have to call it\n",
              "explicitly there.</pre>\n",
              "      <script>\n",
              "      if (google.colab.kernel.accessAllowed && google.colab.files && google.colab.files.view) {\n",
              "        for (const element of document.querySelectorAll('.filepath')) {\n",
              "          element.style.display = 'block'\n",
              "          element.onclick = (event) => {\n",
              "            event.preventDefault();\n",
              "            event.stopPropagation();\n",
              "            google.colab.files.view(element.textContent, 401);\n",
              "          };\n",
              "        }\n",
              "      }\n",
              "      for (const element of document.querySelectorAll('.function-repr-contents')) {\n",
              "        element.onclick = (event) => {\n",
              "          event.preventDefault();\n",
              "          event.stopPropagation();\n",
              "          element.classList.toggle('function-repr-contents-collapsed');\n",
              "        };\n",
              "      }\n",
              "      </script>\n",
              "      </div>"
            ]
          },
          "metadata": {},
          "execution_count": 145
        },
        {
          "output_type": "display_data",
          "data": {
            "text/plain": [
              "<Figure size 640x480 with 1 Axes>"
            ],
            "image/png": "[encoded data removed]"
          },
          "metadata": {}
        }
      ]
    }
  ]
}